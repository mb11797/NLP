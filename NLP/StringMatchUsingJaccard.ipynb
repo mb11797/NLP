{
 "cells": [
  {
   "cell_type": "code",
   "execution_count": 1,
   "metadata": {},
   "outputs": [],
   "source": [
    "text_1 = \"Hello this is python programming and python is mainly used for machine learning and data science\"\n",
    "text_2 = \"Python is a very popular language among data scientists and is used in machine learning heavily\""
   ]
  },
  {
   "cell_type": "markdown",
   "metadata": {},
   "source": [
    "# Tokenization"
   ]
  },
  {
   "cell_type": "code",
   "execution_count": 2,
   "metadata": {},
   "outputs": [],
   "source": [
    "token_1 = text_1.split()\n",
    "token_2 = text_2.split()"
   ]
  },
  {
   "cell_type": "code",
   "execution_count": 3,
   "metadata": {},
   "outputs": [
    {
     "data": {
      "text/plain": [
       "['Hello',\n",
       " 'this',\n",
       " 'is',\n",
       " 'python',\n",
       " 'programming',\n",
       " 'and',\n",
       " 'python',\n",
       " 'is',\n",
       " 'mainly',\n",
       " 'used',\n",
       " 'for',\n",
       " 'machine',\n",
       " 'learning',\n",
       " 'and',\n",
       " 'data',\n",
       " 'science']"
      ]
     },
     "execution_count": 3,
     "metadata": {},
     "output_type": "execute_result"
    }
   ],
   "source": [
    "token_1"
   ]
  },
  {
   "cell_type": "code",
   "execution_count": 4,
   "metadata": {},
   "outputs": [
    {
     "data": {
      "text/plain": [
       "['Python',\n",
       " 'is',\n",
       " 'a',\n",
       " 'very',\n",
       " 'popular',\n",
       " 'language',\n",
       " 'among',\n",
       " 'data',\n",
       " 'scientists',\n",
       " 'and',\n",
       " 'is',\n",
       " 'used',\n",
       " 'in',\n",
       " 'machine',\n",
       " 'learning',\n",
       " 'heavily']"
      ]
     },
     "execution_count": 4,
     "metadata": {},
     "output_type": "execute_result"
    }
   ],
   "source": [
    "token_2"
   ]
  },
  {
   "cell_type": "code",
   "execution_count": 5,
   "metadata": {},
   "outputs": [
    {
     "data": {
      "text/plain": [
       "['Hello this is ',\n",
       " 'ython ',\n",
       " 'rogramming and ',\n",
       " 'ython is mainly used for machine learning and data science']"
      ]
     },
     "execution_count": 5,
     "metadata": {},
     "output_type": "execute_result"
    }
   ],
   "source": [
    "text_1.split('p')"
   ]
  },
  {
   "cell_type": "code",
   "execution_count": 6,
   "metadata": {},
   "outputs": [
    {
     "data": {
      "text/plain": [
       "['Hello this is python p',\n",
       " 'og',\n",
       " 'amming and python is mainly used fo',\n",
       " ' machine lea',\n",
       " 'ning and data science']"
      ]
     },
     "execution_count": 6,
     "metadata": {},
     "output_type": "execute_result"
    }
   ],
   "source": [
    "text_1.split('r')"
   ]
  },
  {
   "cell_type": "markdown",
   "metadata": {},
   "source": [
    "# Conversion to lower case"
   ]
  },
  {
   "cell_type": "code",
   "execution_count": 7,
   "metadata": {},
   "outputs": [],
   "source": [
    "token_1 = [word.lower() for word in token_1]\n",
    "token_2 = [word.lower() for word in token_2]\n",
    "\n",
    "# Method-2\n",
    "# for i in range(len(token_1)):\n",
    "#     token_1[i] = token_1[i].lower()\n",
    "    \n",
    "# for i in range(len(token_2)):\n",
    "#     token_2[i] = token_2[i].lower()\n",
    "    "
   ]
  },
  {
   "cell_type": "code",
   "execution_count": 8,
   "metadata": {},
   "outputs": [
    {
     "data": {
      "text/plain": [
       "['hello',\n",
       " 'this',\n",
       " 'is',\n",
       " 'python',\n",
       " 'programming',\n",
       " 'and',\n",
       " 'python',\n",
       " 'is',\n",
       " 'mainly',\n",
       " 'used',\n",
       " 'for',\n",
       " 'machine',\n",
       " 'learning',\n",
       " 'and',\n",
       " 'data',\n",
       " 'science']"
      ]
     },
     "execution_count": 8,
     "metadata": {},
     "output_type": "execute_result"
    }
   ],
   "source": [
    "token_1"
   ]
  },
  {
   "cell_type": "code",
   "execution_count": 9,
   "metadata": {},
   "outputs": [
    {
     "data": {
      "text/plain": [
       "['python',\n",
       " 'is',\n",
       " 'a',\n",
       " 'very',\n",
       " 'popular',\n",
       " 'language',\n",
       " 'among',\n",
       " 'data',\n",
       " 'scientists',\n",
       " 'and',\n",
       " 'is',\n",
       " 'used',\n",
       " 'in',\n",
       " 'machine',\n",
       " 'learning',\n",
       " 'heavily']"
      ]
     },
     "execution_count": 9,
     "metadata": {},
     "output_type": "execute_result"
    }
   ],
   "source": [
    "token_2"
   ]
  },
  {
   "cell_type": "code",
   "execution_count": 10,
   "metadata": {},
   "outputs": [],
   "source": [
    "stopwords = ['is','am','are','the','and','or','in','this','that','for','a','used']"
   ]
  },
  {
   "cell_type": "markdown",
   "metadata": {},
   "source": [
    "# Removing Stopwords"
   ]
  },
  {
   "cell_type": "code",
   "execution_count": 11,
   "metadata": {},
   "outputs": [],
   "source": [
    "list_1 = []\n",
    "list_2 = []\n",
    "\n",
    "for word in token_1:\n",
    "    if word not in stopwords:\n",
    "        list_1.append(word)\n",
    "        \n",
    "for word in token_2:\n",
    "    if word not in stopwords:\n",
    "        list_2.append(word)\n",
    "        "
   ]
  },
  {
   "cell_type": "code",
   "execution_count": 12,
   "metadata": {},
   "outputs": [
    {
     "data": {
      "text/plain": [
       "['hello',\n",
       " 'python',\n",
       " 'programming',\n",
       " 'python',\n",
       " 'mainly',\n",
       " 'machine',\n",
       " 'learning',\n",
       " 'data',\n",
       " 'science']"
      ]
     },
     "execution_count": 12,
     "metadata": {},
     "output_type": "execute_result"
    }
   ],
   "source": [
    "list_1"
   ]
  },
  {
   "cell_type": "code",
   "execution_count": 13,
   "metadata": {},
   "outputs": [
    {
     "data": {
      "text/plain": [
       "['python',\n",
       " 'very',\n",
       " 'popular',\n",
       " 'language',\n",
       " 'among',\n",
       " 'data',\n",
       " 'scientists',\n",
       " 'machine',\n",
       " 'learning',\n",
       " 'heavily']"
      ]
     },
     "execution_count": 13,
     "metadata": {},
     "output_type": "execute_result"
    }
   ],
   "source": [
    "list_2"
   ]
  },
  {
   "cell_type": "markdown",
   "metadata": {},
   "source": [
    "# Finding unique words"
   ]
  },
  {
   "cell_type": "code",
   "execution_count": 14,
   "metadata": {},
   "outputs": [],
   "source": [
    "set_1 = set(list_1)\n",
    "set_2 = set(list_2)"
   ]
  },
  {
   "cell_type": "code",
   "execution_count": 15,
   "metadata": {},
   "outputs": [
    {
     "data": {
      "text/plain": [
       "{'data',\n",
       " 'hello',\n",
       " 'learning',\n",
       " 'machine',\n",
       " 'mainly',\n",
       " 'programming',\n",
       " 'python',\n",
       " 'science'}"
      ]
     },
     "execution_count": 15,
     "metadata": {},
     "output_type": "execute_result"
    }
   ],
   "source": [
    "set_1"
   ]
  },
  {
   "cell_type": "code",
   "execution_count": 16,
   "metadata": {},
   "outputs": [
    {
     "data": {
      "text/plain": [
       "{'among',\n",
       " 'data',\n",
       " 'heavily',\n",
       " 'language',\n",
       " 'learning',\n",
       " 'machine',\n",
       " 'popular',\n",
       " 'python',\n",
       " 'scientists',\n",
       " 'very'}"
      ]
     },
     "execution_count": 16,
     "metadata": {},
     "output_type": "execute_result"
    }
   ],
   "source": [
    "set_2"
   ]
  },
  {
   "cell_type": "markdown",
   "metadata": {},
   "source": [
    "# Jaccard Index"
   ]
  },
  {
   "cell_type": "code",
   "execution_count": 17,
   "metadata": {},
   "outputs": [],
   "source": [
    "s1 = set_1.intersection(set_2)\n",
    "s2 = set_1.union(set_2)"
   ]
  },
  {
   "cell_type": "code",
   "execution_count": 18,
   "metadata": {},
   "outputs": [
    {
     "data": {
      "text/plain": [
       "{'data', 'learning', 'machine', 'python'}"
      ]
     },
     "execution_count": 18,
     "metadata": {},
     "output_type": "execute_result"
    }
   ],
   "source": [
    "s1"
   ]
  },
  {
   "cell_type": "code",
   "execution_count": 19,
   "metadata": {},
   "outputs": [
    {
     "data": {
      "text/plain": [
       "{'among',\n",
       " 'data',\n",
       " 'heavily',\n",
       " 'hello',\n",
       " 'language',\n",
       " 'learning',\n",
       " 'machine',\n",
       " 'mainly',\n",
       " 'popular',\n",
       " 'programming',\n",
       " 'python',\n",
       " 'science',\n",
       " 'scientists',\n",
       " 'very'}"
      ]
     },
     "execution_count": 19,
     "metadata": {},
     "output_type": "execute_result"
    }
   ],
   "source": [
    "s2"
   ]
  },
  {
   "cell_type": "code",
   "execution_count": 20,
   "metadata": {},
   "outputs": [],
   "source": [
    "JI = len(s1)/len(s2)"
   ]
  },
  {
   "cell_type": "code",
   "execution_count": 21,
   "metadata": {},
   "outputs": [
    {
     "data": {
      "text/plain": [
       "0.2857142857142857"
      ]
     },
     "execution_count": 21,
     "metadata": {},
     "output_type": "execute_result"
    }
   ],
   "source": [
    "JI"
   ]
  },
  {
   "cell_type": "code",
   "execution_count": null,
   "metadata": {},
   "outputs": [],
   "source": []
  }
 ],
 "metadata": {
  "kernelspec": {
   "display_name": "Python 3",
   "language": "python",
   "name": "python3"
  },
  "language_info": {
   "codemirror_mode": {
    "name": "ipython",
    "version": 3
   },
   "file_extension": ".py",
   "mimetype": "text/x-python",
   "name": "python",
   "nbconvert_exporter": "python",
   "pygments_lexer": "ipython3",
   "version": "3.6.4"
  }
 },
 "nbformat": 4,
 "nbformat_minor": 2
}
