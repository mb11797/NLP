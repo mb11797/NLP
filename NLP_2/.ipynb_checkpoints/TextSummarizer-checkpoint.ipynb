{
 "cells": [
  {
   "cell_type": "code",
   "execution_count": 1,
   "metadata": {},
   "outputs": [],
   "source": [
    "from nltk.tokenize import word_tokenize, sent_tokenize\n",
    "from nltk.corpus import stopwords\n",
    "from nltk.stem import WordNetLemmatizer, PorterStemmer"
   ]
  },
  {
   "cell_type": "code",
   "execution_count": 2,
   "metadata": {},
   "outputs": [],
   "source": [
    "text = \"\"\"I’ve been asked by a few friends to develop a feature for a\n",
    "WhatsApp chatbot of mine, that summarizes articles based on\n",
    "URL inputs. So when a friend sends an article to a WhatsApp\n",
    "group, the bot will reply with a summary of the given URL\n",
    "article. I like this feature because from my personal\n",
    "research, 65% of group users don’t even click the shared URLs,\n",
    "but 97% of them will read a few lines of the articles summary.\n",
    "As part of being a Fullstack developer, it is important to\n",
    "know how to choose the right stack for each product you\n",
    "develop, depending on the requirements and limitations.\n",
    "For web crawling, I love using Python. The Python community\n",
    "is filled with efficient, easy to implement open source\n",
    "libraries both for web crawling and text summarization.\n",
    "Once you’re done with this tutorial, you won’t believe how\n",
    "simple it is to implement the task.\"\"\""
   ]
  },
  {
   "cell_type": "code",
   "execution_count": 3,
   "metadata": {},
   "outputs": [],
   "source": [
    "words = word_tokenize(text)\n",
    "# words = text.split(\" \")\n",
    "sentences = sent_tokenize(text)\n",
    "sw = stopwords.words('english')\n",
    "w_net = WordNetLemmatizer()\n",
    "ps = PorterStemmer()"
   ]
  },
  {
   "cell_type": "code",
   "execution_count": 4,
   "metadata": {},
   "outputs": [
    {
     "name": "stdout",
     "output_type": "stream",
     "text": [
      "['I', '’', 've', 'been', 'asked', 'by', 'a', 'few', 'friends', 'to', 'develop', 'a', 'feature', 'for', 'a', 'WhatsApp', 'chatbot', 'of', 'mine', ',', 'that', 'summarizes', 'articles', 'based', 'on', 'URL', 'inputs', '.', 'So', 'when', 'a', 'friend', 'sends', 'an', 'article', 'to', 'a', 'WhatsApp', 'group', ',', 'the', 'bot', 'will', 'reply', 'with', 'a', 'summary', 'of', 'the', 'given', 'URL', 'article', '.', 'I', 'like', 'this', 'feature', 'because', 'from', 'my', 'personal', 'research', ',', '65', '%', 'of', 'group', 'users', 'don', '’', 't', 'even', 'click', 'the', 'shared', 'URLs', ',', 'but', '97', '%', 'of', 'them', 'will', 'read', 'a', 'few', 'lines', 'of', 'the', 'articles', 'summary', '.', 'As', 'part', 'of', 'being', 'a', 'Fullstack', 'developer', ',', 'it', 'is', 'important', 'to', 'know', 'how', 'to', 'choose', 'the', 'right', 'stack', 'for', 'each', 'product', 'you', 'develop', ',', 'depending', 'on', 'the', 'requirements', 'and', 'limitations', '.', 'For', 'web', 'crawling', ',', 'I', 'love', 'using', 'Python', '.', 'The', 'Python', 'community', 'is', 'filled', 'with', 'efficient', ',', 'easy', 'to', 'implement', 'open', 'source', 'libraries', 'both', 'for', 'web', 'crawling', 'and', 'text', 'summarization', '.', 'Once', 'you', '’', 're', 'done', 'with', 'this', 'tutorial', ',', 'you', 'won', '’', 't', 'believe', 'how', 'simple', 'it', 'is', 'to', 'implement', 'the', 'task', '.']\n"
     ]
    }
   ],
   "source": [
    "print(words)"
   ]
  },
  {
   "cell_type": "code",
   "execution_count": 5,
   "metadata": {},
   "outputs": [
    {
     "name": "stdout",
     "output_type": "stream",
     "text": [
      "['I’ve been asked by a few friends to develop a feature for a\\nWhatsApp chatbot of mine, that summarizes articles based on\\nURL inputs.', 'So when a friend sends an article to a WhatsApp\\ngroup, the bot will reply with a summary of the given URL\\narticle.', 'I like this feature because from my personal\\nresearch, 65% of group users don’t even click the shared URLs,\\nbut 97% of them will read a few lines of the articles summary.', 'As part of being a Fullstack developer, it is important to\\nknow how to choose the right stack for each product you\\ndevelop, depending on the requirements and limitations.', 'For web crawling, I love using Python.', 'The Python community\\nis filled with efficient, easy to implement open source\\nlibraries both for web crawling and text summarization.', 'Once you’re done with this tutorial, you won’t believe how\\nsimple it is to implement the task.']\n"
     ]
    }
   ],
   "source": [
    "print(sentences)"
   ]
  },
  {
   "cell_type": "code",
   "execution_count": 6,
   "metadata": {},
   "outputs": [
    {
     "name": "stdout",
     "output_type": "stream",
     "text": [
      "['i', 'me', 'my', 'myself', 'we', 'our', 'ours', 'ourselves', 'you', \"you're\", \"you've\", \"you'll\", \"you'd\", 'your', 'yours', 'yourself', 'yourselves', 'he', 'him', 'his', 'himself', 'she', \"she's\", 'her', 'hers', 'herself', 'it', \"it's\", 'its', 'itself', 'they', 'them', 'their', 'theirs', 'themselves', 'what', 'which', 'who', 'whom', 'this', 'that', \"that'll\", 'these', 'those', 'am', 'is', 'are', 'was', 'were', 'be', 'been', 'being', 'have', 'has', 'had', 'having', 'do', 'does', 'did', 'doing', 'a', 'an', 'the', 'and', 'but', 'if', 'or', 'because', 'as', 'until', 'while', 'of', 'at', 'by', 'for', 'with', 'about', 'against', 'between', 'into', 'through', 'during', 'before', 'after', 'above', 'below', 'to', 'from', 'up', 'down', 'in', 'out', 'on', 'off', 'over', 'under', 'again', 'further', 'then', 'once', 'here', 'there', 'when', 'where', 'why', 'how', 'all', 'any', 'both', 'each', 'few', 'more', 'most', 'other', 'some', 'such', 'no', 'nor', 'not', 'only', 'own', 'same', 'so', 'than', 'too', 'very', 's', 't', 'can', 'will', 'just', 'don', \"don't\", 'should', \"should've\", 'now', 'd', 'll', 'm', 'o', 're', 've', 'y', 'ain', 'aren', \"aren't\", 'couldn', \"couldn't\", 'didn', \"didn't\", 'doesn', \"doesn't\", 'hadn', \"hadn't\", 'hasn', \"hasn't\", 'haven', \"haven't\", 'isn', \"isn't\", 'ma', 'mightn', \"mightn't\", 'mustn', \"mustn't\", 'needn', \"needn't\", 'shan', \"shan't\", 'shouldn', \"shouldn't\", 'wasn', \"wasn't\", 'weren', \"weren't\", 'won', \"won't\", 'wouldn', \"wouldn't\"]\n"
     ]
    }
   ],
   "source": [
    "print(sw)"
   ]
  },
  {
   "cell_type": "code",
   "execution_count": 7,
   "metadata": {},
   "outputs": [],
   "source": [
    "freq_table = dict()\n",
    "for word in words:\n",
    "    word = word.lower()\n",
    "    \n",
    "    if word in sw:\n",
    "        continue\n",
    "    \n",
    "#     word = w_net.lemmatize(word, pos='v')\n",
    "    word = ps.stem(word)\n",
    "    if word in freq_table:\n",
    "        freq_table[word] += 1\n",
    "    else:\n",
    "        freq_table[word] = 1\n",
    "        "
   ]
  },
  {
   "cell_type": "code",
   "execution_count": 8,
   "metadata": {},
   "outputs": [
    {
     "name": "stdout",
     "output_type": "stream",
     "text": [
      "{'’': 4, 'ask': 1, 'friend': 2, 'develop': 3, 'featur': 2, 'whatsapp': 2, 'chatbot': 1, 'mine': 1, ',': 9, 'summar': 2, 'articl': 4, 'base': 1, 'url': 3, 'input': 1, '.': 7, 'send': 1, 'group': 2, 'bot': 1, 'repli': 1, 'summari': 2, 'given': 1, 'like': 1, 'person': 1, 'research': 1, '65': 1, '%': 2, 'user': 1, 'even': 1, 'click': 1, 'share': 1, '97': 1, 'read': 1, 'line': 1, 'part': 1, 'fullstack': 1, 'import': 1, 'know': 1, 'choos': 1, 'right': 1, 'stack': 1, 'product': 1, 'depend': 1, 'requir': 1, 'limit': 1, 'web': 2, 'crawl': 2, 'love': 1, 'use': 1, 'python': 2, 'commun': 1, 'fill': 1, 'effici': 1, 'easi': 1, 'implement': 2, 'open': 1, 'sourc': 1, 'librari': 1, 'text': 1, 'done': 1, 'tutori': 1, 'believ': 1, 'simpl': 1, 'task': 1}\n"
     ]
    }
   ],
   "source": [
    "print(freq_table)"
   ]
  },
  {
   "cell_type": "code",
   "execution_count": 9,
   "metadata": {},
   "outputs": [
    {
     "data": {
      "text/plain": [
       "7"
      ]
     },
     "execution_count": 9,
     "metadata": {},
     "output_type": "execute_result"
    }
   ],
   "source": [
    "len(sentences)"
   ]
  },
  {
   "cell_type": "code",
   "execution_count": 10,
   "metadata": {},
   "outputs": [
    {
     "name": "stdout",
     "output_type": "stream",
     "text": [
      "Word => ’\n",
      "Sentence => I’ve been asked by a few friends to develop a feature for a\n",
      "WhatsApp chatbot of mine, that summarizes articles based on\n",
      "URL inputs.\n",
      "{'I’ve been asked by a few friends to develop a feature for a\\nWhatsApp chatbot of mine, that summarizes articles based on\\nURL inputs.': 4}\n",
      "Word => ask\n",
      "Sentence => I’ve been asked by a few friends to develop a feature for a\n",
      "WhatsApp chatbot of mine, that summarizes articles based on\n",
      "URL inputs.\n",
      "{'I’ve been asked by a few friends to develop a feature for a\\nWhatsApp chatbot of mine, that summarizes articles based on\\nURL inputs.': 5}\n",
      "Word => friend\n",
      "Sentence => I’ve been asked by a few friends to develop a feature for a\n",
      "WhatsApp chatbot of mine, that summarizes articles based on\n",
      "URL inputs.\n",
      "{'I’ve been asked by a few friends to develop a feature for a\\nWhatsApp chatbot of mine, that summarizes articles based on\\nURL inputs.': 7}\n",
      "Word => develop\n",
      "Sentence => I’ve been asked by a few friends to develop a feature for a\n",
      "WhatsApp chatbot of mine, that summarizes articles based on\n",
      "URL inputs.\n",
      "{'I’ve been asked by a few friends to develop a feature for a\\nWhatsApp chatbot of mine, that summarizes articles based on\\nURL inputs.': 10}\n",
      "Word => featur\n",
      "Sentence => I’ve been asked by a few friends to develop a feature for a\n",
      "WhatsApp chatbot of mine, that summarizes articles based on\n",
      "URL inputs.\n",
      "{'I’ve been asked by a few friends to develop a feature for a\\nWhatsApp chatbot of mine, that summarizes articles based on\\nURL inputs.': 12}\n",
      "Word => chatbot\n",
      "Sentence => I’ve been asked by a few friends to develop a feature for a\n",
      "WhatsApp chatbot of mine, that summarizes articles based on\n",
      "URL inputs.\n",
      "{'I’ve been asked by a few friends to develop a feature for a\\nWhatsApp chatbot of mine, that summarizes articles based on\\nURL inputs.': 13}\n",
      "Word => mine\n",
      "Sentence => I’ve been asked by a few friends to develop a feature for a\n",
      "WhatsApp chatbot of mine, that summarizes articles based on\n",
      "URL inputs.\n",
      "{'I’ve been asked by a few friends to develop a feature for a\\nWhatsApp chatbot of mine, that summarizes articles based on\\nURL inputs.': 14}\n",
      "Word => ,\n",
      "Sentence => I’ve been asked by a few friends to develop a feature for a\n",
      "WhatsApp chatbot of mine, that summarizes articles based on\n",
      "URL inputs.\n",
      "{'I’ve been asked by a few friends to develop a feature for a\\nWhatsApp chatbot of mine, that summarizes articles based on\\nURL inputs.': 23}\n",
      "Word => summar\n",
      "Sentence => I’ve been asked by a few friends to develop a feature for a\n",
      "WhatsApp chatbot of mine, that summarizes articles based on\n",
      "URL inputs.\n",
      "{'I’ve been asked by a few friends to develop a feature for a\\nWhatsApp chatbot of mine, that summarizes articles based on\\nURL inputs.': 25}\n",
      "Word => articl\n",
      "Sentence => I’ve been asked by a few friends to develop a feature for a\n",
      "WhatsApp chatbot of mine, that summarizes articles based on\n",
      "URL inputs.\n",
      "{'I’ve been asked by a few friends to develop a feature for a\\nWhatsApp chatbot of mine, that summarizes articles based on\\nURL inputs.': 29}\n",
      "Word => base\n",
      "Sentence => I’ve been asked by a few friends to develop a feature for a\n",
      "WhatsApp chatbot of mine, that summarizes articles based on\n",
      "URL inputs.\n",
      "{'I’ve been asked by a few friends to develop a feature for a\\nWhatsApp chatbot of mine, that summarizes articles based on\\nURL inputs.': 30}\n",
      "Word => input\n",
      "Sentence => I’ve been asked by a few friends to develop a feature for a\n",
      "WhatsApp chatbot of mine, that summarizes articles based on\n",
      "URL inputs.\n",
      "{'I’ve been asked by a few friends to develop a feature for a\\nWhatsApp chatbot of mine, that summarizes articles based on\\nURL inputs.': 31}\n",
      "Word => .\n",
      "Sentence => I’ve been asked by a few friends to develop a feature for a\n",
      "WhatsApp chatbot of mine, that summarizes articles based on\n",
      "URL inputs.\n",
      "{'I’ve been asked by a few friends to develop a feature for a\\nWhatsApp chatbot of mine, that summarizes articles based on\\nURL inputs.': 38}\n",
      "Word => bot\n",
      "Sentence => I’ve been asked by a few friends to develop a feature for a\n",
      "WhatsApp chatbot of mine, that summarizes articles based on\n",
      "URL inputs.\n",
      "{'I’ve been asked by a few friends to develop a feature for a\\nWhatsApp chatbot of mine, that summarizes articles based on\\nURL inputs.': 39}\n",
      "Word => summari\n",
      "Sentence => I’ve been asked by a few friends to develop a feature for a\n",
      "WhatsApp chatbot of mine, that summarizes articles based on\n",
      "URL inputs.\n",
      "{'I’ve been asked by a few friends to develop a feature for a\\nWhatsApp chatbot of mine, that summarizes articles based on\\nURL inputs.': 41}\n",
      "Word => friend\n",
      "Sentence => So when a friend sends an article to a WhatsApp\n",
      "group, the bot will reply with a summary of the given URL\n",
      "article.\n",
      "{'I’ve been asked by a few friends to develop a feature for a\\nWhatsApp chatbot of mine, that summarizes articles based on\\nURL inputs.': 41, 'So when a friend sends an article to a WhatsApp\\ngroup, the bot will reply with a summary of the given URL\\narticle.': 2}\n",
      "Word => ,\n",
      "Sentence => So when a friend sends an article to a WhatsApp\n",
      "group, the bot will reply with a summary of the given URL\n",
      "article.\n",
      "{'I’ve been asked by a few friends to develop a feature for a\\nWhatsApp chatbot of mine, that summarizes articles based on\\nURL inputs.': 41, 'So when a friend sends an article to a WhatsApp\\ngroup, the bot will reply with a summary of the given URL\\narticle.': 11}\n",
      "Word => summar\n",
      "Sentence => So when a friend sends an article to a WhatsApp\n",
      "group, the bot will reply with a summary of the given URL\n",
      "article.\n",
      "{'I’ve been asked by a few friends to develop a feature for a\\nWhatsApp chatbot of mine, that summarizes articles based on\\nURL inputs.': 41, 'So when a friend sends an article to a WhatsApp\\ngroup, the bot will reply with a summary of the given URL\\narticle.': 13}\n",
      "Word => articl\n",
      "Sentence => So when a friend sends an article to a WhatsApp\n",
      "group, the bot will reply with a summary of the given URL\n",
      "article.\n",
      "{'I’ve been asked by a few friends to develop a feature for a\\nWhatsApp chatbot of mine, that summarizes articles based on\\nURL inputs.': 41, 'So when a friend sends an article to a WhatsApp\\ngroup, the bot will reply with a summary of the given URL\\narticle.': 17}\n",
      "Word => .\n",
      "Sentence => So when a friend sends an article to a WhatsApp\n",
      "group, the bot will reply with a summary of the given URL\n",
      "article.\n",
      "{'I’ve been asked by a few friends to develop a feature for a\\nWhatsApp chatbot of mine, that summarizes articles based on\\nURL inputs.': 41, 'So when a friend sends an article to a WhatsApp\\ngroup, the bot will reply with a summary of the given URL\\narticle.': 24}\n",
      "Word => send\n",
      "Sentence => So when a friend sends an article to a WhatsApp\n",
      "group, the bot will reply with a summary of the given URL\n",
      "article.\n",
      "{'I’ve been asked by a few friends to develop a feature for a\\nWhatsApp chatbot of mine, that summarizes articles based on\\nURL inputs.': 41, 'So when a friend sends an article to a WhatsApp\\ngroup, the bot will reply with a summary of the given URL\\narticle.': 25}\n",
      "Word => group\n",
      "Sentence => So when a friend sends an article to a WhatsApp\n",
      "group, the bot will reply with a summary of the given URL\n",
      "article.\n",
      "{'I’ve been asked by a few friends to develop a feature for a\\nWhatsApp chatbot of mine, that summarizes articles based on\\nURL inputs.': 41, 'So when a friend sends an article to a WhatsApp\\ngroup, the bot will reply with a summary of the given URL\\narticle.': 27}\n",
      "Word => bot\n",
      "Sentence => So when a friend sends an article to a WhatsApp\n",
      "group, the bot will reply with a summary of the given URL\n",
      "article.\n",
      "{'I’ve been asked by a few friends to develop a feature for a\\nWhatsApp chatbot of mine, that summarizes articles based on\\nURL inputs.': 41, 'So when a friend sends an article to a WhatsApp\\ngroup, the bot will reply with a summary of the given URL\\narticle.': 28}\n",
      "Word => given\n",
      "Sentence => So when a friend sends an article to a WhatsApp\n",
      "group, the bot will reply with a summary of the given URL\n",
      "article.\n",
      "{'I’ve been asked by a few friends to develop a feature for a\\nWhatsApp chatbot of mine, that summarizes articles based on\\nURL inputs.': 41, 'So when a friend sends an article to a WhatsApp\\ngroup, the bot will reply with a summary of the given URL\\narticle.': 29}\n",
      "Word => ’\n",
      "Sentence => I like this feature because from my personal\n",
      "research, 65% of group users don’t even click the shared URLs,\n",
      "but 97% of them will read a few lines of the articles summary.\n",
      "{'I’ve been asked by a few friends to develop a feature for a\\nWhatsApp chatbot of mine, that summarizes articles based on\\nURL inputs.': 41, 'So when a friend sends an article to a WhatsApp\\ngroup, the bot will reply with a summary of the given URL\\narticle.': 29, 'I like this feature because from my personal\\nresearch, 65% of group users don’t even click the shared URLs,\\nbut 97% of them will read a few lines of the articles summary.': 4}\n",
      "Word => featur\n",
      "Sentence => I like this feature because from my personal\n",
      "research, 65% of group users don’t even click the shared URLs,\n",
      "but 97% of them will read a few lines of the articles summary.\n",
      "{'I’ve been asked by a few friends to develop a feature for a\\nWhatsApp chatbot of mine, that summarizes articles based on\\nURL inputs.': 41, 'So when a friend sends an article to a WhatsApp\\ngroup, the bot will reply with a summary of the given URL\\narticle.': 29, 'I like this feature because from my personal\\nresearch, 65% of group users don’t even click the shared URLs,\\nbut 97% of them will read a few lines of the articles summary.': 6}\n",
      "Word => ,\n",
      "Sentence => I like this feature because from my personal\n",
      "research, 65% of group users don’t even click the shared URLs,\n",
      "but 97% of them will read a few lines of the articles summary.\n",
      "{'I’ve been asked by a few friends to develop a feature for a\\nWhatsApp chatbot of mine, that summarizes articles based on\\nURL inputs.': 41, 'So when a friend sends an article to a WhatsApp\\ngroup, the bot will reply with a summary of the given URL\\narticle.': 29, 'I like this feature because from my personal\\nresearch, 65% of group users don’t even click the shared URLs,\\nbut 97% of them will read a few lines of the articles summary.': 15}\n",
      "Word => summar\n",
      "Sentence => I like this feature because from my personal\n",
      "research, 65% of group users don’t even click the shared URLs,\n",
      "but 97% of them will read a few lines of the articles summary.\n",
      "{'I’ve been asked by a few friends to develop a feature for a\\nWhatsApp chatbot of mine, that summarizes articles based on\\nURL inputs.': 41, 'So when a friend sends an article to a WhatsApp\\ngroup, the bot will reply with a summary of the given URL\\narticle.': 29, 'I like this feature because from my personal\\nresearch, 65% of group users don’t even click the shared URLs,\\nbut 97% of them will read a few lines of the articles summary.': 17}\n",
      "Word => articl\n",
      "Sentence => I like this feature because from my personal\n",
      "research, 65% of group users don’t even click the shared URLs,\n",
      "but 97% of them will read a few lines of the articles summary.\n",
      "{'I’ve been asked by a few friends to develop a feature for a\\nWhatsApp chatbot of mine, that summarizes articles based on\\nURL inputs.': 41, 'So when a friend sends an article to a WhatsApp\\ngroup, the bot will reply with a summary of the given URL\\narticle.': 29, 'I like this feature because from my personal\\nresearch, 65% of group users don’t even click the shared URLs,\\nbut 97% of them will read a few lines of the articles summary.': 21}\n",
      "Word => .\n",
      "Sentence => I like this feature because from my personal\n",
      "research, 65% of group users don’t even click the shared URLs,\n",
      "but 97% of them will read a few lines of the articles summary.\n",
      "{'I’ve been asked by a few friends to develop a feature for a\\nWhatsApp chatbot of mine, that summarizes articles based on\\nURL inputs.': 41, 'So when a friend sends an article to a WhatsApp\\ngroup, the bot will reply with a summary of the given URL\\narticle.': 29, 'I like this feature because from my personal\\nresearch, 65% of group users don’t even click the shared URLs,\\nbut 97% of them will read a few lines of the articles summary.': 28}\n",
      "Word => group\n",
      "Sentence => I like this feature because from my personal\n",
      "research, 65% of group users don’t even click the shared URLs,\n",
      "but 97% of them will read a few lines of the articles summary.\n",
      "{'I’ve been asked by a few friends to develop a feature for a\\nWhatsApp chatbot of mine, that summarizes articles based on\\nURL inputs.': 41, 'So when a friend sends an article to a WhatsApp\\ngroup, the bot will reply with a summary of the given URL\\narticle.': 29, 'I like this feature because from my personal\\nresearch, 65% of group users don’t even click the shared URLs,\\nbut 97% of them will read a few lines of the articles summary.': 30}\n",
      "Word => like\n",
      "Sentence => I like this feature because from my personal\n",
      "research, 65% of group users don’t even click the shared URLs,\n",
      "but 97% of them will read a few lines of the articles summary.\n",
      "{'I’ve been asked by a few friends to develop a feature for a\\nWhatsApp chatbot of mine, that summarizes articles based on\\nURL inputs.': 41, 'So when a friend sends an article to a WhatsApp\\ngroup, the bot will reply with a summary of the given URL\\narticle.': 29, 'I like this feature because from my personal\\nresearch, 65% of group users don’t even click the shared URLs,\\nbut 97% of them will read a few lines of the articles summary.': 31}\n",
      "Word => person\n",
      "Sentence => I like this feature because from my personal\n",
      "research, 65% of group users don’t even click the shared URLs,\n",
      "but 97% of them will read a few lines of the articles summary.\n",
      "{'I’ve been asked by a few friends to develop a feature for a\\nWhatsApp chatbot of mine, that summarizes articles based on\\nURL inputs.': 41, 'So when a friend sends an article to a WhatsApp\\ngroup, the bot will reply with a summary of the given URL\\narticle.': 29, 'I like this feature because from my personal\\nresearch, 65% of group users don’t even click the shared URLs,\\nbut 97% of them will read a few lines of the articles summary.': 32}\n",
      "Word => research\n",
      "Sentence => I like this feature because from my personal\n",
      "research, 65% of group users don’t even click the shared URLs,\n",
      "but 97% of them will read a few lines of the articles summary.\n",
      "{'I’ve been asked by a few friends to develop a feature for a\\nWhatsApp chatbot of mine, that summarizes articles based on\\nURL inputs.': 41, 'So when a friend sends an article to a WhatsApp\\ngroup, the bot will reply with a summary of the given URL\\narticle.': 29, 'I like this feature because from my personal\\nresearch, 65% of group users don’t even click the shared URLs,\\nbut 97% of them will read a few lines of the articles summary.': 33}\n",
      "Word => 65\n",
      "Sentence => I like this feature because from my personal\n",
      "research, 65% of group users don’t even click the shared URLs,\n",
      "but 97% of them will read a few lines of the articles summary.\n",
      "{'I’ve been asked by a few friends to develop a feature for a\\nWhatsApp chatbot of mine, that summarizes articles based on\\nURL inputs.': 41, 'So when a friend sends an article to a WhatsApp\\ngroup, the bot will reply with a summary of the given URL\\narticle.': 29, 'I like this feature because from my personal\\nresearch, 65% of group users don’t even click the shared URLs,\\nbut 97% of them will read a few lines of the articles summary.': 34}\n",
      "Word => %\n",
      "Sentence => I like this feature because from my personal\n",
      "research, 65% of group users don’t even click the shared URLs,\n",
      "but 97% of them will read a few lines of the articles summary.\n",
      "{'I’ve been asked by a few friends to develop a feature for a\\nWhatsApp chatbot of mine, that summarizes articles based on\\nURL inputs.': 41, 'So when a friend sends an article to a WhatsApp\\ngroup, the bot will reply with a summary of the given URL\\narticle.': 29, 'I like this feature because from my personal\\nresearch, 65% of group users don’t even click the shared URLs,\\nbut 97% of them will read a few lines of the articles summary.': 36}\n",
      "Word => user\n",
      "Sentence => I like this feature because from my personal\n",
      "research, 65% of group users don’t even click the shared URLs,\n",
      "but 97% of them will read a few lines of the articles summary.\n",
      "{'I’ve been asked by a few friends to develop a feature for a\\nWhatsApp chatbot of mine, that summarizes articles based on\\nURL inputs.': 41, 'So when a friend sends an article to a WhatsApp\\ngroup, the bot will reply with a summary of the given URL\\narticle.': 29, 'I like this feature because from my personal\\nresearch, 65% of group users don’t even click the shared URLs,\\nbut 97% of them will read a few lines of the articles summary.': 37}\n",
      "Word => even\n",
      "Sentence => I like this feature because from my personal\n",
      "research, 65% of group users don’t even click the shared URLs,\n",
      "but 97% of them will read a few lines of the articles summary.\n",
      "{'I’ve been asked by a few friends to develop a feature for a\\nWhatsApp chatbot of mine, that summarizes articles based on\\nURL inputs.': 41, 'So when a friend sends an article to a WhatsApp\\ngroup, the bot will reply with a summary of the given URL\\narticle.': 29, 'I like this feature because from my personal\\nresearch, 65% of group users don’t even click the shared URLs,\\nbut 97% of them will read a few lines of the articles summary.': 38}\n",
      "Word => click\n",
      "Sentence => I like this feature because from my personal\n",
      "research, 65% of group users don’t even click the shared URLs,\n",
      "but 97% of them will read a few lines of the articles summary.\n",
      "{'I’ve been asked by a few friends to develop a feature for a\\nWhatsApp chatbot of mine, that summarizes articles based on\\nURL inputs.': 41, 'So when a friend sends an article to a WhatsApp\\ngroup, the bot will reply with a summary of the given URL\\narticle.': 29, 'I like this feature because from my personal\\nresearch, 65% of group users don’t even click the shared URLs,\\nbut 97% of them will read a few lines of the articles summary.': 39}\n",
      "Word => share\n",
      "Sentence => I like this feature because from my personal\n",
      "research, 65% of group users don’t even click the shared URLs,\n",
      "but 97% of them will read a few lines of the articles summary.\n",
      "{'I’ve been asked by a few friends to develop a feature for a\\nWhatsApp chatbot of mine, that summarizes articles based on\\nURL inputs.': 41, 'So when a friend sends an article to a WhatsApp\\ngroup, the bot will reply with a summary of the given URL\\narticle.': 29, 'I like this feature because from my personal\\nresearch, 65% of group users don’t even click the shared URLs,\\nbut 97% of them will read a few lines of the articles summary.': 40}\n",
      "Word => 97\n",
      "Sentence => I like this feature because from my personal\n",
      "research, 65% of group users don’t even click the shared URLs,\n",
      "but 97% of them will read a few lines of the articles summary.\n",
      "{'I’ve been asked by a few friends to develop a feature for a\\nWhatsApp chatbot of mine, that summarizes articles based on\\nURL inputs.': 41, 'So when a friend sends an article to a WhatsApp\\ngroup, the bot will reply with a summary of the given URL\\narticle.': 29, 'I like this feature because from my personal\\nresearch, 65% of group users don’t even click the shared URLs,\\nbut 97% of them will read a few lines of the articles summary.': 41}\n",
      "Word => read\n",
      "Sentence => I like this feature because from my personal\n",
      "research, 65% of group users don’t even click the shared URLs,\n",
      "but 97% of them will read a few lines of the articles summary.\n",
      "{'I’ve been asked by a few friends to develop a feature for a\\nWhatsApp chatbot of mine, that summarizes articles based on\\nURL inputs.': 41, 'So when a friend sends an article to a WhatsApp\\ngroup, the bot will reply with a summary of the given URL\\narticle.': 29, 'I like this feature because from my personal\\nresearch, 65% of group users don’t even click the shared URLs,\\nbut 97% of them will read a few lines of the articles summary.': 42}\n",
      "Word => line\n",
      "Sentence => I like this feature because from my personal\n",
      "research, 65% of group users don’t even click the shared URLs,\n",
      "but 97% of them will read a few lines of the articles summary.\n",
      "{'I’ve been asked by a few friends to develop a feature for a\\nWhatsApp chatbot of mine, that summarizes articles based on\\nURL inputs.': 41, 'So when a friend sends an article to a WhatsApp\\ngroup, the bot will reply with a summary of the given URL\\narticle.': 29, 'I like this feature because from my personal\\nresearch, 65% of group users don’t even click the shared URLs,\\nbut 97% of them will read a few lines of the articles summary.': 43}\n",
      "Word => use\n",
      "Sentence => I like this feature because from my personal\n",
      "research, 65% of group users don’t even click the shared URLs,\n",
      "but 97% of them will read a few lines of the articles summary.\n",
      "{'I’ve been asked by a few friends to develop a feature for a\\nWhatsApp chatbot of mine, that summarizes articles based on\\nURL inputs.': 41, 'So when a friend sends an article to a WhatsApp\\ngroup, the bot will reply with a summary of the given URL\\narticle.': 29, 'I like this feature because from my personal\\nresearch, 65% of group users don’t even click the shared URLs,\\nbut 97% of them will read a few lines of the articles summary.': 44}\n",
      "Word => develop\n",
      "Sentence => As part of being a Fullstack developer, it is important to\n",
      "know how to choose the right stack for each product you\n",
      "develop, depending on the requirements and limitations.\n",
      "{'I’ve been asked by a few friends to develop a feature for a\\nWhatsApp chatbot of mine, that summarizes articles based on\\nURL inputs.': 41, 'So when a friend sends an article to a WhatsApp\\ngroup, the bot will reply with a summary of the given URL\\narticle.': 29, 'I like this feature because from my personal\\nresearch, 65% of group users don’t even click the shared URLs,\\nbut 97% of them will read a few lines of the articles summary.': 44, 'As part of being a Fullstack developer, it is important to\\nknow how to choose the right stack for each product you\\ndevelop, depending on the requirements and limitations.': 3}\n",
      "Word => ,\n",
      "Sentence => As part of being a Fullstack developer, it is important to\n",
      "know how to choose the right stack for each product you\n",
      "develop, depending on the requirements and limitations.\n",
      "{'I’ve been asked by a few friends to develop a feature for a\\nWhatsApp chatbot of mine, that summarizes articles based on\\nURL inputs.': 41, 'So when a friend sends an article to a WhatsApp\\ngroup, the bot will reply with a summary of the given URL\\narticle.': 29, 'I like this feature because from my personal\\nresearch, 65% of group users don’t even click the shared URLs,\\nbut 97% of them will read a few lines of the articles summary.': 44, 'As part of being a Fullstack developer, it is important to\\nknow how to choose the right stack for each product you\\ndevelop, depending on the requirements and limitations.': 12}\n",
      "Word => .\n",
      "Sentence => As part of being a Fullstack developer, it is important to\n",
      "know how to choose the right stack for each product you\n",
      "develop, depending on the requirements and limitations.\n",
      "{'I’ve been asked by a few friends to develop a feature for a\\nWhatsApp chatbot of mine, that summarizes articles based on\\nURL inputs.': 41, 'So when a friend sends an article to a WhatsApp\\ngroup, the bot will reply with a summary of the given URL\\narticle.': 29, 'I like this feature because from my personal\\nresearch, 65% of group users don’t even click the shared URLs,\\nbut 97% of them will read a few lines of the articles summary.': 44, 'As part of being a Fullstack developer, it is important to\\nknow how to choose the right stack for each product you\\ndevelop, depending on the requirements and limitations.': 19}\n",
      "Word => part\n",
      "Sentence => As part of being a Fullstack developer, it is important to\n",
      "know how to choose the right stack for each product you\n",
      "develop, depending on the requirements and limitations.\n",
      "{'I’ve been asked by a few friends to develop a feature for a\\nWhatsApp chatbot of mine, that summarizes articles based on\\nURL inputs.': 41, 'So when a friend sends an article to a WhatsApp\\ngroup, the bot will reply with a summary of the given URL\\narticle.': 29, 'I like this feature because from my personal\\nresearch, 65% of group users don’t even click the shared URLs,\\nbut 97% of them will read a few lines of the articles summary.': 44, 'As part of being a Fullstack developer, it is important to\\nknow how to choose the right stack for each product you\\ndevelop, depending on the requirements and limitations.': 20}\n",
      "Word => import\n",
      "Sentence => As part of being a Fullstack developer, it is important to\n",
      "know how to choose the right stack for each product you\n",
      "develop, depending on the requirements and limitations.\n",
      "{'I’ve been asked by a few friends to develop a feature for a\\nWhatsApp chatbot of mine, that summarizes articles based on\\nURL inputs.': 41, 'So when a friend sends an article to a WhatsApp\\ngroup, the bot will reply with a summary of the given URL\\narticle.': 29, 'I like this feature because from my personal\\nresearch, 65% of group users don’t even click the shared URLs,\\nbut 97% of them will read a few lines of the articles summary.': 44, 'As part of being a Fullstack developer, it is important to\\nknow how to choose the right stack for each product you\\ndevelop, depending on the requirements and limitations.': 21}\n",
      "Word => know\n",
      "Sentence => As part of being a Fullstack developer, it is important to\n",
      "know how to choose the right stack for each product you\n",
      "develop, depending on the requirements and limitations.\n",
      "{'I’ve been asked by a few friends to develop a feature for a\\nWhatsApp chatbot of mine, that summarizes articles based on\\nURL inputs.': 41, 'So when a friend sends an article to a WhatsApp\\ngroup, the bot will reply with a summary of the given URL\\narticle.': 29, 'I like this feature because from my personal\\nresearch, 65% of group users don’t even click the shared URLs,\\nbut 97% of them will read a few lines of the articles summary.': 44, 'As part of being a Fullstack developer, it is important to\\nknow how to choose the right stack for each product you\\ndevelop, depending on the requirements and limitations.': 22}\n",
      "Word => choos\n",
      "Sentence => As part of being a Fullstack developer, it is important to\n",
      "know how to choose the right stack for each product you\n",
      "develop, depending on the requirements and limitations.\n",
      "{'I’ve been asked by a few friends to develop a feature for a\\nWhatsApp chatbot of mine, that summarizes articles based on\\nURL inputs.': 41, 'So when a friend sends an article to a WhatsApp\\ngroup, the bot will reply with a summary of the given URL\\narticle.': 29, 'I like this feature because from my personal\\nresearch, 65% of group users don’t even click the shared URLs,\\nbut 97% of them will read a few lines of the articles summary.': 44, 'As part of being a Fullstack developer, it is important to\\nknow how to choose the right stack for each product you\\ndevelop, depending on the requirements and limitations.': 23}\n",
      "Word => right\n",
      "Sentence => As part of being a Fullstack developer, it is important to\n",
      "know how to choose the right stack for each product you\n",
      "develop, depending on the requirements and limitations.\n",
      "{'I’ve been asked by a few friends to develop a feature for a\\nWhatsApp chatbot of mine, that summarizes articles based on\\nURL inputs.': 41, 'So when a friend sends an article to a WhatsApp\\ngroup, the bot will reply with a summary of the given URL\\narticle.': 29, 'I like this feature because from my personal\\nresearch, 65% of group users don’t even click the shared URLs,\\nbut 97% of them will read a few lines of the articles summary.': 44, 'As part of being a Fullstack developer, it is important to\\nknow how to choose the right stack for each product you\\ndevelop, depending on the requirements and limitations.': 24}\n",
      "Word => stack\n",
      "Sentence => As part of being a Fullstack developer, it is important to\n",
      "know how to choose the right stack for each product you\n",
      "develop, depending on the requirements and limitations.\n",
      "{'I’ve been asked by a few friends to develop a feature for a\\nWhatsApp chatbot of mine, that summarizes articles based on\\nURL inputs.': 41, 'So when a friend sends an article to a WhatsApp\\ngroup, the bot will reply with a summary of the given URL\\narticle.': 29, 'I like this feature because from my personal\\nresearch, 65% of group users don’t even click the shared URLs,\\nbut 97% of them will read a few lines of the articles summary.': 44, 'As part of being a Fullstack developer, it is important to\\nknow how to choose the right stack for each product you\\ndevelop, depending on the requirements and limitations.': 25}\n",
      "Word => product\n",
      "Sentence => As part of being a Fullstack developer, it is important to\n",
      "know how to choose the right stack for each product you\n",
      "develop, depending on the requirements and limitations.\n",
      "{'I’ve been asked by a few friends to develop a feature for a\\nWhatsApp chatbot of mine, that summarizes articles based on\\nURL inputs.': 41, 'So when a friend sends an article to a WhatsApp\\ngroup, the bot will reply with a summary of the given URL\\narticle.': 29, 'I like this feature because from my personal\\nresearch, 65% of group users don’t even click the shared URLs,\\nbut 97% of them will read a few lines of the articles summary.': 44, 'As part of being a Fullstack developer, it is important to\\nknow how to choose the right stack for each product you\\ndevelop, depending on the requirements and limitations.': 26}\n",
      "Word => depend\n",
      "Sentence => As part of being a Fullstack developer, it is important to\n",
      "know how to choose the right stack for each product you\n",
      "develop, depending on the requirements and limitations.\n",
      "{'I’ve been asked by a few friends to develop a feature for a\\nWhatsApp chatbot of mine, that summarizes articles based on\\nURL inputs.': 41, 'So when a friend sends an article to a WhatsApp\\ngroup, the bot will reply with a summary of the given URL\\narticle.': 29, 'I like this feature because from my personal\\nresearch, 65% of group users don’t even click the shared URLs,\\nbut 97% of them will read a few lines of the articles summary.': 44, 'As part of being a Fullstack developer, it is important to\\nknow how to choose the right stack for each product you\\ndevelop, depending on the requirements and limitations.': 27}\n",
      "Word => requir\n",
      "Sentence => As part of being a Fullstack developer, it is important to\n",
      "know how to choose the right stack for each product you\n",
      "develop, depending on the requirements and limitations.\n",
      "{'I’ve been asked by a few friends to develop a feature for a\\nWhatsApp chatbot of mine, that summarizes articles based on\\nURL inputs.': 41, 'So when a friend sends an article to a WhatsApp\\ngroup, the bot will reply with a summary of the given URL\\narticle.': 29, 'I like this feature because from my personal\\nresearch, 65% of group users don’t even click the shared URLs,\\nbut 97% of them will read a few lines of the articles summary.': 44, 'As part of being a Fullstack developer, it is important to\\nknow how to choose the right stack for each product you\\ndevelop, depending on the requirements and limitations.': 28}\n",
      "Word => limit\n",
      "Sentence => As part of being a Fullstack developer, it is important to\n",
      "know how to choose the right stack for each product you\n",
      "develop, depending on the requirements and limitations.\n",
      "{'I’ve been asked by a few friends to develop a feature for a\\nWhatsApp chatbot of mine, that summarizes articles based on\\nURL inputs.': 41, 'So when a friend sends an article to a WhatsApp\\ngroup, the bot will reply with a summary of the given URL\\narticle.': 29, 'I like this feature because from my personal\\nresearch, 65% of group users don’t even click the shared URLs,\\nbut 97% of them will read a few lines of the articles summary.': 44, 'As part of being a Fullstack developer, it is important to\\nknow how to choose the right stack for each product you\\ndevelop, depending on the requirements and limitations.': 29}\n",
      "Word => ,\n",
      "Sentence => For web crawling, I love using Python.\n",
      "{'I’ve been asked by a few friends to develop a feature for a\\nWhatsApp chatbot of mine, that summarizes articles based on\\nURL inputs.': 41, 'So when a friend sends an article to a WhatsApp\\ngroup, the bot will reply with a summary of the given URL\\narticle.': 29, 'I like this feature because from my personal\\nresearch, 65% of group users don’t even click the shared URLs,\\nbut 97% of them will read a few lines of the articles summary.': 44, 'As part of being a Fullstack developer, it is important to\\nknow how to choose the right stack for each product you\\ndevelop, depending on the requirements and limitations.': 29, 'For web crawling, I love using Python.': 9}\n",
      "Word => .\n",
      "Sentence => For web crawling, I love using Python.\n",
      "{'I’ve been asked by a few friends to develop a feature for a\\nWhatsApp chatbot of mine, that summarizes articles based on\\nURL inputs.': 41, 'So when a friend sends an article to a WhatsApp\\ngroup, the bot will reply with a summary of the given URL\\narticle.': 29, 'I like this feature because from my personal\\nresearch, 65% of group users don’t even click the shared URLs,\\nbut 97% of them will read a few lines of the articles summary.': 44, 'As part of being a Fullstack developer, it is important to\\nknow how to choose the right stack for each product you\\ndevelop, depending on the requirements and limitations.': 29, 'For web crawling, I love using Python.': 16}\n",
      "Word => web\n",
      "Sentence => For web crawling, I love using Python.\n",
      "{'I’ve been asked by a few friends to develop a feature for a\\nWhatsApp chatbot of mine, that summarizes articles based on\\nURL inputs.': 41, 'So when a friend sends an article to a WhatsApp\\ngroup, the bot will reply with a summary of the given URL\\narticle.': 29, 'I like this feature because from my personal\\nresearch, 65% of group users don’t even click the shared URLs,\\nbut 97% of them will read a few lines of the articles summary.': 44, 'As part of being a Fullstack developer, it is important to\\nknow how to choose the right stack for each product you\\ndevelop, depending on the requirements and limitations.': 29, 'For web crawling, I love using Python.': 18}\n",
      "Word => crawl\n",
      "Sentence => For web crawling, I love using Python.\n",
      "{'I’ve been asked by a few friends to develop a feature for a\\nWhatsApp chatbot of mine, that summarizes articles based on\\nURL inputs.': 41, 'So when a friend sends an article to a WhatsApp\\ngroup, the bot will reply with a summary of the given URL\\narticle.': 29, 'I like this feature because from my personal\\nresearch, 65% of group users don’t even click the shared URLs,\\nbut 97% of them will read a few lines of the articles summary.': 44, 'As part of being a Fullstack developer, it is important to\\nknow how to choose the right stack for each product you\\ndevelop, depending on the requirements and limitations.': 29, 'For web crawling, I love using Python.': 20}\n",
      "Word => love\n",
      "Sentence => For web crawling, I love using Python.\n",
      "{'I’ve been asked by a few friends to develop a feature for a\\nWhatsApp chatbot of mine, that summarizes articles based on\\nURL inputs.': 41, 'So when a friend sends an article to a WhatsApp\\ngroup, the bot will reply with a summary of the given URL\\narticle.': 29, 'I like this feature because from my personal\\nresearch, 65% of group users don’t even click the shared URLs,\\nbut 97% of them will read a few lines of the articles summary.': 44, 'As part of being a Fullstack developer, it is important to\\nknow how to choose the right stack for each product you\\ndevelop, depending on the requirements and limitations.': 29, 'For web crawling, I love using Python.': 21}\n",
      "Word => ,\n",
      "Sentence => The Python community\n",
      "is filled with efficient, easy to implement open source\n",
      "libraries both for web crawling and text summarization.\n",
      "{'I’ve been asked by a few friends to develop a feature for a\\nWhatsApp chatbot of mine, that summarizes articles based on\\nURL inputs.': 41, 'So when a friend sends an article to a WhatsApp\\ngroup, the bot will reply with a summary of the given URL\\narticle.': 29, 'I like this feature because from my personal\\nresearch, 65% of group users don’t even click the shared URLs,\\nbut 97% of them will read a few lines of the articles summary.': 44, 'As part of being a Fullstack developer, it is important to\\nknow how to choose the right stack for each product you\\ndevelop, depending on the requirements and limitations.': 29, 'For web crawling, I love using Python.': 21, 'The Python community\\nis filled with efficient, easy to implement open source\\nlibraries both for web crawling and text summarization.': 9}\n",
      "Word => summar\n",
      "Sentence => The Python community\n",
      "is filled with efficient, easy to implement open source\n",
      "libraries both for web crawling and text summarization.\n",
      "{'I’ve been asked by a few friends to develop a feature for a\\nWhatsApp chatbot of mine, that summarizes articles based on\\nURL inputs.': 41, 'So when a friend sends an article to a WhatsApp\\ngroup, the bot will reply with a summary of the given URL\\narticle.': 29, 'I like this feature because from my personal\\nresearch, 65% of group users don’t even click the shared URLs,\\nbut 97% of them will read a few lines of the articles summary.': 44, 'As part of being a Fullstack developer, it is important to\\nknow how to choose the right stack for each product you\\ndevelop, depending on the requirements and limitations.': 29, 'For web crawling, I love using Python.': 21, 'The Python community\\nis filled with efficient, easy to implement open source\\nlibraries both for web crawling and text summarization.': 11}\n",
      "Word => .\n",
      "Sentence => The Python community\n",
      "is filled with efficient, easy to implement open source\n",
      "libraries both for web crawling and text summarization.\n",
      "{'I’ve been asked by a few friends to develop a feature for a\\nWhatsApp chatbot of mine, that summarizes articles based on\\nURL inputs.': 41, 'So when a friend sends an article to a WhatsApp\\ngroup, the bot will reply with a summary of the given URL\\narticle.': 29, 'I like this feature because from my personal\\nresearch, 65% of group users don’t even click the shared URLs,\\nbut 97% of them will read a few lines of the articles summary.': 44, 'As part of being a Fullstack developer, it is important to\\nknow how to choose the right stack for each product you\\ndevelop, depending on the requirements and limitations.': 29, 'For web crawling, I love using Python.': 21, 'The Python community\\nis filled with efficient, easy to implement open source\\nlibraries both for web crawling and text summarization.': 18}\n",
      "Word => bot\n",
      "Sentence => The Python community\n",
      "is filled with efficient, easy to implement open source\n",
      "libraries both for web crawling and text summarization.\n",
      "{'I’ve been asked by a few friends to develop a feature for a\\nWhatsApp chatbot of mine, that summarizes articles based on\\nURL inputs.': 41, 'So when a friend sends an article to a WhatsApp\\ngroup, the bot will reply with a summary of the given URL\\narticle.': 29, 'I like this feature because from my personal\\nresearch, 65% of group users don’t even click the shared URLs,\\nbut 97% of them will read a few lines of the articles summary.': 44, 'As part of being a Fullstack developer, it is important to\\nknow how to choose the right stack for each product you\\ndevelop, depending on the requirements and limitations.': 29, 'For web crawling, I love using Python.': 21, 'The Python community\\nis filled with efficient, easy to implement open source\\nlibraries both for web crawling and text summarization.': 19}\n",
      "Word => summari\n",
      "Sentence => The Python community\n",
      "is filled with efficient, easy to implement open source\n",
      "libraries both for web crawling and text summarization.\n",
      "{'I’ve been asked by a few friends to develop a feature for a\\nWhatsApp chatbot of mine, that summarizes articles based on\\nURL inputs.': 41, 'So when a friend sends an article to a WhatsApp\\ngroup, the bot will reply with a summary of the given URL\\narticle.': 29, 'I like this feature because from my personal\\nresearch, 65% of group users don’t even click the shared URLs,\\nbut 97% of them will read a few lines of the articles summary.': 44, 'As part of being a Fullstack developer, it is important to\\nknow how to choose the right stack for each product you\\ndevelop, depending on the requirements and limitations.': 29, 'For web crawling, I love using Python.': 21, 'The Python community\\nis filled with efficient, easy to implement open source\\nlibraries both for web crawling and text summarization.': 21}\n",
      "Word => web\n",
      "Sentence => The Python community\n",
      "is filled with efficient, easy to implement open source\n",
      "libraries both for web crawling and text summarization.\n",
      "{'I’ve been asked by a few friends to develop a feature for a\\nWhatsApp chatbot of mine, that summarizes articles based on\\nURL inputs.': 41, 'So when a friend sends an article to a WhatsApp\\ngroup, the bot will reply with a summary of the given URL\\narticle.': 29, 'I like this feature because from my personal\\nresearch, 65% of group users don’t even click the shared URLs,\\nbut 97% of them will read a few lines of the articles summary.': 44, 'As part of being a Fullstack developer, it is important to\\nknow how to choose the right stack for each product you\\ndevelop, depending on the requirements and limitations.': 29, 'For web crawling, I love using Python.': 21, 'The Python community\\nis filled with efficient, easy to implement open source\\nlibraries both for web crawling and text summarization.': 23}\n",
      "Word => crawl\n",
      "Sentence => The Python community\n",
      "is filled with efficient, easy to implement open source\n",
      "libraries both for web crawling and text summarization.\n",
      "{'I’ve been asked by a few friends to develop a feature for a\\nWhatsApp chatbot of mine, that summarizes articles based on\\nURL inputs.': 41, 'So when a friend sends an article to a WhatsApp\\ngroup, the bot will reply with a summary of the given URL\\narticle.': 29, 'I like this feature because from my personal\\nresearch, 65% of group users don’t even click the shared URLs,\\nbut 97% of them will read a few lines of the articles summary.': 44, 'As part of being a Fullstack developer, it is important to\\nknow how to choose the right stack for each product you\\ndevelop, depending on the requirements and limitations.': 29, 'For web crawling, I love using Python.': 21, 'The Python community\\nis filled with efficient, easy to implement open source\\nlibraries both for web crawling and text summarization.': 25}\n",
      "Word => commun\n",
      "Sentence => The Python community\n",
      "is filled with efficient, easy to implement open source\n",
      "libraries both for web crawling and text summarization.\n",
      "{'I’ve been asked by a few friends to develop a feature for a\\nWhatsApp chatbot of mine, that summarizes articles based on\\nURL inputs.': 41, 'So when a friend sends an article to a WhatsApp\\ngroup, the bot will reply with a summary of the given URL\\narticle.': 29, 'I like this feature because from my personal\\nresearch, 65% of group users don’t even click the shared URLs,\\nbut 97% of them will read a few lines of the articles summary.': 44, 'As part of being a Fullstack developer, it is important to\\nknow how to choose the right stack for each product you\\ndevelop, depending on the requirements and limitations.': 29, 'For web crawling, I love using Python.': 21, 'The Python community\\nis filled with efficient, easy to implement open source\\nlibraries both for web crawling and text summarization.': 26}\n",
      "Word => fill\n",
      "Sentence => The Python community\n",
      "is filled with efficient, easy to implement open source\n",
      "libraries both for web crawling and text summarization.\n",
      "{'I’ve been asked by a few friends to develop a feature for a\\nWhatsApp chatbot of mine, that summarizes articles based on\\nURL inputs.': 41, 'So when a friend sends an article to a WhatsApp\\ngroup, the bot will reply with a summary of the given URL\\narticle.': 29, 'I like this feature because from my personal\\nresearch, 65% of group users don’t even click the shared URLs,\\nbut 97% of them will read a few lines of the articles summary.': 44, 'As part of being a Fullstack developer, it is important to\\nknow how to choose the right stack for each product you\\ndevelop, depending on the requirements and limitations.': 29, 'For web crawling, I love using Python.': 21, 'The Python community\\nis filled with efficient, easy to implement open source\\nlibraries both for web crawling and text summarization.': 27}\n",
      "Word => effici\n",
      "Sentence => The Python community\n",
      "is filled with efficient, easy to implement open source\n",
      "libraries both for web crawling and text summarization.\n",
      "{'I’ve been asked by a few friends to develop a feature for a\\nWhatsApp chatbot of mine, that summarizes articles based on\\nURL inputs.': 41, 'So when a friend sends an article to a WhatsApp\\ngroup, the bot will reply with a summary of the given URL\\narticle.': 29, 'I like this feature because from my personal\\nresearch, 65% of group users don’t even click the shared URLs,\\nbut 97% of them will read a few lines of the articles summary.': 44, 'As part of being a Fullstack developer, it is important to\\nknow how to choose the right stack for each product you\\ndevelop, depending on the requirements and limitations.': 29, 'For web crawling, I love using Python.': 21, 'The Python community\\nis filled with efficient, easy to implement open source\\nlibraries both for web crawling and text summarization.': 28}\n",
      "Word => implement\n",
      "Sentence => The Python community\n",
      "is filled with efficient, easy to implement open source\n",
      "libraries both for web crawling and text summarization.\n",
      "{'I’ve been asked by a few friends to develop a feature for a\\nWhatsApp chatbot of mine, that summarizes articles based on\\nURL inputs.': 41, 'So when a friend sends an article to a WhatsApp\\ngroup, the bot will reply with a summary of the given URL\\narticle.': 29, 'I like this feature because from my personal\\nresearch, 65% of group users don’t even click the shared URLs,\\nbut 97% of them will read a few lines of the articles summary.': 44, 'As part of being a Fullstack developer, it is important to\\nknow how to choose the right stack for each product you\\ndevelop, depending on the requirements and limitations.': 29, 'For web crawling, I love using Python.': 21, 'The Python community\\nis filled with efficient, easy to implement open source\\nlibraries both for web crawling and text summarization.': 30}\n",
      "Word => open\n",
      "Sentence => The Python community\n",
      "is filled with efficient, easy to implement open source\n",
      "libraries both for web crawling and text summarization.\n",
      "{'I’ve been asked by a few friends to develop a feature for a\\nWhatsApp chatbot of mine, that summarizes articles based on\\nURL inputs.': 41, 'So when a friend sends an article to a WhatsApp\\ngroup, the bot will reply with a summary of the given URL\\narticle.': 29, 'I like this feature because from my personal\\nresearch, 65% of group users don’t even click the shared URLs,\\nbut 97% of them will read a few lines of the articles summary.': 44, 'As part of being a Fullstack developer, it is important to\\nknow how to choose the right stack for each product you\\ndevelop, depending on the requirements and limitations.': 29, 'For web crawling, I love using Python.': 21, 'The Python community\\nis filled with efficient, easy to implement open source\\nlibraries both for web crawling and text summarization.': 31}\n",
      "Word => sourc\n",
      "Sentence => The Python community\n",
      "is filled with efficient, easy to implement open source\n",
      "libraries both for web crawling and text summarization.\n",
      "{'I’ve been asked by a few friends to develop a feature for a\\nWhatsApp chatbot of mine, that summarizes articles based on\\nURL inputs.': 41, 'So when a friend sends an article to a WhatsApp\\ngroup, the bot will reply with a summary of the given URL\\narticle.': 29, 'I like this feature because from my personal\\nresearch, 65% of group users don’t even click the shared URLs,\\nbut 97% of them will read a few lines of the articles summary.': 44, 'As part of being a Fullstack developer, it is important to\\nknow how to choose the right stack for each product you\\ndevelop, depending on the requirements and limitations.': 29, 'For web crawling, I love using Python.': 21, 'The Python community\\nis filled with efficient, easy to implement open source\\nlibraries both for web crawling and text summarization.': 32}\n",
      "Word => librari\n",
      "Sentence => The Python community\n",
      "is filled with efficient, easy to implement open source\n",
      "libraries both for web crawling and text summarization.\n",
      "{'I’ve been asked by a few friends to develop a feature for a\\nWhatsApp chatbot of mine, that summarizes articles based on\\nURL inputs.': 41, 'So when a friend sends an article to a WhatsApp\\ngroup, the bot will reply with a summary of the given URL\\narticle.': 29, 'I like this feature because from my personal\\nresearch, 65% of group users don’t even click the shared URLs,\\nbut 97% of them will read a few lines of the articles summary.': 44, 'As part of being a Fullstack developer, it is important to\\nknow how to choose the right stack for each product you\\ndevelop, depending on the requirements and limitations.': 29, 'For web crawling, I love using Python.': 21, 'The Python community\\nis filled with efficient, easy to implement open source\\nlibraries both for web crawling and text summarization.': 33}\n",
      "Word => text\n",
      "Sentence => The Python community\n",
      "is filled with efficient, easy to implement open source\n",
      "libraries both for web crawling and text summarization.\n",
      "{'I’ve been asked by a few friends to develop a feature for a\\nWhatsApp chatbot of mine, that summarizes articles based on\\nURL inputs.': 41, 'So when a friend sends an article to a WhatsApp\\ngroup, the bot will reply with a summary of the given URL\\narticle.': 29, 'I like this feature because from my personal\\nresearch, 65% of group users don’t even click the shared URLs,\\nbut 97% of them will read a few lines of the articles summary.': 44, 'As part of being a Fullstack developer, it is important to\\nknow how to choose the right stack for each product you\\ndevelop, depending on the requirements and limitations.': 29, 'For web crawling, I love using Python.': 21, 'The Python community\\nis filled with efficient, easy to implement open source\\nlibraries both for web crawling and text summarization.': 34}\n",
      "Word => ’\n",
      "Sentence => Once you’re done with this tutorial, you won’t believe how\n",
      "simple it is to implement the task.\n",
      "{'I’ve been asked by a few friends to develop a feature for a\\nWhatsApp chatbot of mine, that summarizes articles based on\\nURL inputs.': 41, 'So when a friend sends an article to a WhatsApp\\ngroup, the bot will reply with a summary of the given URL\\narticle.': 29, 'I like this feature because from my personal\\nresearch, 65% of group users don’t even click the shared URLs,\\nbut 97% of them will read a few lines of the articles summary.': 44, 'As part of being a Fullstack developer, it is important to\\nknow how to choose the right stack for each product you\\ndevelop, depending on the requirements and limitations.': 29, 'For web crawling, I love using Python.': 21, 'The Python community\\nis filled with efficient, easy to implement open source\\nlibraries both for web crawling and text summarization.': 34, 'Once you’re done with this tutorial, you won’t believe how\\nsimple it is to implement the task.': 4}\n",
      "Word => ask\n",
      "Sentence => Once you’re done with this tutorial, you won’t believe how\n",
      "simple it is to implement the task.\n",
      "{'I’ve been asked by a few friends to develop a feature for a\\nWhatsApp chatbot of mine, that summarizes articles based on\\nURL inputs.': 41, 'So when a friend sends an article to a WhatsApp\\ngroup, the bot will reply with a summary of the given URL\\narticle.': 29, 'I like this feature because from my personal\\nresearch, 65% of group users don’t even click the shared URLs,\\nbut 97% of them will read a few lines of the articles summary.': 44, 'As part of being a Fullstack developer, it is important to\\nknow how to choose the right stack for each product you\\ndevelop, depending on the requirements and limitations.': 29, 'For web crawling, I love using Python.': 21, 'The Python community\\nis filled with efficient, easy to implement open source\\nlibraries both for web crawling and text summarization.': 34, 'Once you’re done with this tutorial, you won’t believe how\\nsimple it is to implement the task.': 5}\n",
      "Word => ,\n",
      "Sentence => Once you’re done with this tutorial, you won’t believe how\n",
      "simple it is to implement the task.\n",
      "{'I’ve been asked by a few friends to develop a feature for a\\nWhatsApp chatbot of mine, that summarizes articles based on\\nURL inputs.': 41, 'So when a friend sends an article to a WhatsApp\\ngroup, the bot will reply with a summary of the given URL\\narticle.': 29, 'I like this feature because from my personal\\nresearch, 65% of group users don’t even click the shared URLs,\\nbut 97% of them will read a few lines of the articles summary.': 44, 'As part of being a Fullstack developer, it is important to\\nknow how to choose the right stack for each product you\\ndevelop, depending on the requirements and limitations.': 29, 'For web crawling, I love using Python.': 21, 'The Python community\\nis filled with efficient, easy to implement open source\\nlibraries both for web crawling and text summarization.': 34, 'Once you’re done with this tutorial, you won’t believe how\\nsimple it is to implement the task.': 14}\n",
      "Word => .\n",
      "Sentence => Once you’re done with this tutorial, you won’t believe how\n",
      "simple it is to implement the task.\n",
      "{'I’ve been asked by a few friends to develop a feature for a\\nWhatsApp chatbot of mine, that summarizes articles based on\\nURL inputs.': 41, 'So when a friend sends an article to a WhatsApp\\ngroup, the bot will reply with a summary of the given URL\\narticle.': 29, 'I like this feature because from my personal\\nresearch, 65% of group users don’t even click the shared URLs,\\nbut 97% of them will read a few lines of the articles summary.': 44, 'As part of being a Fullstack developer, it is important to\\nknow how to choose the right stack for each product you\\ndevelop, depending on the requirements and limitations.': 29, 'For web crawling, I love using Python.': 21, 'The Python community\\nis filled with efficient, easy to implement open source\\nlibraries both for web crawling and text summarization.': 34, 'Once you’re done with this tutorial, you won’t believe how\\nsimple it is to implement the task.': 21}\n",
      "Word => implement\n",
      "Sentence => Once you’re done with this tutorial, you won’t believe how\n",
      "simple it is to implement the task.\n",
      "{'I’ve been asked by a few friends to develop a feature for a\\nWhatsApp chatbot of mine, that summarizes articles based on\\nURL inputs.': 41, 'So when a friend sends an article to a WhatsApp\\ngroup, the bot will reply with a summary of the given URL\\narticle.': 29, 'I like this feature because from my personal\\nresearch, 65% of group users don’t even click the shared URLs,\\nbut 97% of them will read a few lines of the articles summary.': 44, 'As part of being a Fullstack developer, it is important to\\nknow how to choose the right stack for each product you\\ndevelop, depending on the requirements and limitations.': 29, 'For web crawling, I love using Python.': 21, 'The Python community\\nis filled with efficient, easy to implement open source\\nlibraries both for web crawling and text summarization.': 34, 'Once you’re done with this tutorial, you won’t believe how\\nsimple it is to implement the task.': 23}\n",
      "Word => done\n",
      "Sentence => Once you’re done with this tutorial, you won’t believe how\n",
      "simple it is to implement the task.\n",
      "{'I’ve been asked by a few friends to develop a feature for a\\nWhatsApp chatbot of mine, that summarizes articles based on\\nURL inputs.': 41, 'So when a friend sends an article to a WhatsApp\\ngroup, the bot will reply with a summary of the given URL\\narticle.': 29, 'I like this feature because from my personal\\nresearch, 65% of group users don’t even click the shared URLs,\\nbut 97% of them will read a few lines of the articles summary.': 44, 'As part of being a Fullstack developer, it is important to\\nknow how to choose the right stack for each product you\\ndevelop, depending on the requirements and limitations.': 29, 'For web crawling, I love using Python.': 21, 'The Python community\\nis filled with efficient, easy to implement open source\\nlibraries both for web crawling and text summarization.': 34, 'Once you’re done with this tutorial, you won’t believe how\\nsimple it is to implement the task.': 24}\n",
      "Word => tutori\n",
      "Sentence => Once you’re done with this tutorial, you won’t believe how\n",
      "simple it is to implement the task.\n",
      "{'I’ve been asked by a few friends to develop a feature for a\\nWhatsApp chatbot of mine, that summarizes articles based on\\nURL inputs.': 41, 'So when a friend sends an article to a WhatsApp\\ngroup, the bot will reply with a summary of the given URL\\narticle.': 29, 'I like this feature because from my personal\\nresearch, 65% of group users don’t even click the shared URLs,\\nbut 97% of them will read a few lines of the articles summary.': 44, 'As part of being a Fullstack developer, it is important to\\nknow how to choose the right stack for each product you\\ndevelop, depending on the requirements and limitations.': 29, 'For web crawling, I love using Python.': 21, 'The Python community\\nis filled with efficient, easy to implement open source\\nlibraries both for web crawling and text summarization.': 34, 'Once you’re done with this tutorial, you won’t believe how\\nsimple it is to implement the task.': 25}\n",
      "Word => believ\n",
      "Sentence => Once you’re done with this tutorial, you won’t believe how\n",
      "simple it is to implement the task.\n",
      "{'I’ve been asked by a few friends to develop a feature for a\\nWhatsApp chatbot of mine, that summarizes articles based on\\nURL inputs.': 41, 'So when a friend sends an article to a WhatsApp\\ngroup, the bot will reply with a summary of the given URL\\narticle.': 29, 'I like this feature because from my personal\\nresearch, 65% of group users don’t even click the shared URLs,\\nbut 97% of them will read a few lines of the articles summary.': 44, 'As part of being a Fullstack developer, it is important to\\nknow how to choose the right stack for each product you\\ndevelop, depending on the requirements and limitations.': 29, 'For web crawling, I love using Python.': 21, 'The Python community\\nis filled with efficient, easy to implement open source\\nlibraries both for web crawling and text summarization.': 34, 'Once you’re done with this tutorial, you won’t believe how\\nsimple it is to implement the task.': 26}\n",
      "Word => simpl\n",
      "Sentence => Once you’re done with this tutorial, you won’t believe how\n",
      "simple it is to implement the task.\n",
      "{'I’ve been asked by a few friends to develop a feature for a\\nWhatsApp chatbot of mine, that summarizes articles based on\\nURL inputs.': 41, 'So when a friend sends an article to a WhatsApp\\ngroup, the bot will reply with a summary of the given URL\\narticle.': 29, 'I like this feature because from my personal\\nresearch, 65% of group users don’t even click the shared URLs,\\nbut 97% of them will read a few lines of the articles summary.': 44, 'As part of being a Fullstack developer, it is important to\\nknow how to choose the right stack for each product you\\ndevelop, depending on the requirements and limitations.': 29, 'For web crawling, I love using Python.': 21, 'The Python community\\nis filled with efficient, easy to implement open source\\nlibraries both for web crawling and text summarization.': 34, 'Once you’re done with this tutorial, you won’t believe how\\nsimple it is to implement the task.': 27}\n",
      "Word => task\n",
      "Sentence => Once you’re done with this tutorial, you won’t believe how\n",
      "simple it is to implement the task.\n",
      "{'I’ve been asked by a few friends to develop a feature for a\\nWhatsApp chatbot of mine, that summarizes articles based on\\nURL inputs.': 41, 'So when a friend sends an article to a WhatsApp\\ngroup, the bot will reply with a summary of the given URL\\narticle.': 29, 'I like this feature because from my personal\\nresearch, 65% of group users don’t even click the shared URLs,\\nbut 97% of them will read a few lines of the articles summary.': 44, 'As part of being a Fullstack developer, it is important to\\nknow how to choose the right stack for each product you\\ndevelop, depending on the requirements and limitations.': 29, 'For web crawling, I love using Python.': 21, 'The Python community\\nis filled with efficient, easy to implement open source\\nlibraries both for web crawling and text summarization.': 34, 'Once you’re done with this tutorial, you won’t believe how\\nsimple it is to implement the task.': 28}\n"
     ]
    }
   ],
   "source": [
    "sent_table = dict()\n",
    "\n",
    "for sentence in sentences:\n",
    "    for word, freq in freq_table.items():\n",
    "        if word in sentence:\n",
    "            if sentence in sent_table:\n",
    "                sent_table[sentence] += freq\n",
    "                print(\"Word =>\",word)\n",
    "                print(\"Sentence =>\",sentence)\n",
    "                print(sent_table)\n",
    "            else:\n",
    "                sent_table[sentence] = freq\n",
    "                print(\"Word =>\",word)\n",
    "                print(\"Sentence =>\",sentence)\n",
    "                print(sent_table)                "
   ]
  },
  {
   "cell_type": "code",
   "execution_count": 11,
   "metadata": {},
   "outputs": [
    {
     "name": "stdout",
     "output_type": "stream",
     "text": [
      "{'I’ve been asked by a few friends to develop a feature for a\\nWhatsApp chatbot of mine, that summarizes articles based on\\nURL inputs.': 41, 'So when a friend sends an article to a WhatsApp\\ngroup, the bot will reply with a summary of the given URL\\narticle.': 29, 'I like this feature because from my personal\\nresearch, 65% of group users don’t even click the shared URLs,\\nbut 97% of them will read a few lines of the articles summary.': 44, 'As part of being a Fullstack developer, it is important to\\nknow how to choose the right stack for each product you\\ndevelop, depending on the requirements and limitations.': 29, 'For web crawling, I love using Python.': 21, 'The Python community\\nis filled with efficient, easy to implement open source\\nlibraries both for web crawling and text summarization.': 34, 'Once you’re done with this tutorial, you won’t believe how\\nsimple it is to implement the task.': 28}\n"
     ]
    }
   ],
   "source": [
    "print(sent_table)"
   ]
  },
  {
   "cell_type": "code",
   "execution_count": 12,
   "metadata": {},
   "outputs": [
    {
     "data": {
      "text/plain": [
       "7"
      ]
     },
     "execution_count": 12,
     "metadata": {},
     "output_type": "execute_result"
    }
   ],
   "source": [
    "len(sent_table)"
   ]
  },
  {
   "cell_type": "code",
   "execution_count": 14,
   "metadata": {},
   "outputs": [],
   "source": [
    "sum_val = 0\n",
    "\n",
    "for s in sent_table.values():\n",
    "    sum_val += s"
   ]
  },
  {
   "cell_type": "code",
   "execution_count": 15,
   "metadata": {},
   "outputs": [
    {
     "data": {
      "text/plain": [
       "226"
      ]
     },
     "execution_count": 15,
     "metadata": {},
     "output_type": "execute_result"
    }
   ],
   "source": [
    "sum_val"
   ]
  },
  {
   "cell_type": "code",
   "execution_count": 16,
   "metadata": {},
   "outputs": [],
   "source": [
    "avg = int(sum_val/len(sent_table))"
   ]
  },
  {
   "cell_type": "code",
   "execution_count": 20,
   "metadata": {},
   "outputs": [
    {
     "data": {
      "text/plain": [
       "32"
      ]
     },
     "execution_count": 20,
     "metadata": {},
     "output_type": "execute_result"
    }
   ],
   "source": [
    "avg"
   ]
  },
  {
   "cell_type": "code",
   "execution_count": 29,
   "metadata": {},
   "outputs": [],
   "source": [
    "summary = \"\"\n",
    "\n",
    "for sentence in sentences:\n",
    "    if sent_table[sentence] > avg * 1.2 and sentence in sent_table:\n",
    "        summary += sentence"
   ]
  },
  {
   "cell_type": "code",
   "execution_count": 30,
   "metadata": {},
   "outputs": [
    {
     "name": "stdout",
     "output_type": "stream",
     "text": [
      "I’ve been asked by a few friends to develop a feature for a\n",
      "WhatsApp chatbot of mine, that summarizes articles based on\n",
      "URL inputs.I like this feature because from my personal\n",
      "research, 65% of group users don’t even click the shared URLs,\n",
      "but 97% of them will read a few lines of the articles summary.\n"
     ]
    }
   ],
   "source": [
    "print(summary)"
   ]
  },
  {
   "cell_type": "code",
   "execution_count": null,
   "metadata": {},
   "outputs": [],
   "source": []
  }
 ],
 "metadata": {
  "kernelspec": {
   "display_name": "Python 3",
   "language": "python",
   "name": "python3"
  },
  "language_info": {
   "codemirror_mode": {
    "name": "ipython",
    "version": 3
   },
   "file_extension": ".py",
   "mimetype": "text/x-python",
   "name": "python",
   "nbconvert_exporter": "python",
   "pygments_lexer": "ipython3",
   "version": "3.6.4"
  }
 },
 "nbformat": 4,
 "nbformat_minor": 2
}
