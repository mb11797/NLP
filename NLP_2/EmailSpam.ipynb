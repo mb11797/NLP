{
 "cells": [
  {
   "cell_type": "code",
   "execution_count": 2,
   "metadata": {},
   "outputs": [],
   "source": [
    "# first we have to read the data from files (unknown format)\n",
    "# next we have to train the model using MultinomialNB classifier \n",
    "# Last we have to make predictions "
   ]
  },
  {
   "cell_type": "code",
   "execution_count": 3,
   "metadata": {},
   "outputs": [],
   "source": [
    "import os\n",
    "import io\n",
    "from pandas import DataFrame                               ###Sir why we did not did : (import pandas as pd) : here ?????????\n",
    "from sklearn.feature_extraction.text import CountVectorizer\n",
    "from sklearn.naive_bayes import MultinomialNB"
   ]
  },
  {
   "cell_type": "code",
   "execution_count": 4,
   "metadata": {},
   "outputs": [],
   "source": [
    "def readFiles(path):\n",
    "    for root, dirnames, filenames in os.walk(path):\n",
    "        for filename in filenames:\n",
    "            path = os.path.join(root,filename)\n",
    "            \n",
    "            inBody = False\n",
    "            lines = []\n",
    "            f = io.open(path,'r',encoding=\"latin1\")          #####?????How do we come to know about the encoding??????\n",
    "            \n",
    "            #???????Sir how do we come to know that when we iterate over a file or para or anything in python, than it will iterate over line or word or path or anything else????\n",
    "            for line in f:\n",
    "                if inBody:\n",
    "                    lines.append(line)\n",
    "                elif line == '\\n':\n",
    "                    inBody = True\n",
    "            f.close()\n",
    "            message = '\\n'.join(lines)              #####where is message defined?????\n",
    "            # generator object??? -- yield forms it !!!\n",
    "            # Generator functions allow you to declare a function that behaves like an iterator, i.e. it can be used in a for loop.\n",
    "            # The simplification of code is a result of generator function and generator expression support provided by Python.\n",
    "            # sir ye jo hum asani se iterate kar paate hain kisi bhi list par, vo bhi generator object ya yield se hi kuch related hai kya???\n",
    "            yield path, message\n",
    "            \n",
    "\n",
    "def dataFrameFromDirectory(path,classification):\n",
    "    rows = []\n",
    "    index = []\n",
    "    \n",
    "    for filename, message in readFiles(path):\n",
    "        rows.append({'message':message, 'class':classification})\n",
    "        index.append(filename)\n",
    "    \n",
    "    return DataFrame(rows, index=index)\n",
    "\n",
    "data = DataFrame({'message':[], 'class':[]})\n",
    "\n",
    "data = data.append(dataFrameFromDirectory('emails/spam', 'spam'))\n",
    "\n",
    "data = data.append(dataFrameFromDirectory('emails/ham','ham'))"
   ]
  },
  {
   "cell_type": "code",
   "execution_count": 5,
   "metadata": {},
   "outputs": [
    {
     "data": {
      "text/html": [
       "<div>\n",
       "<style scoped>\n",
       "    .dataframe tbody tr th:only-of-type {\n",
       "        vertical-align: middle;\n",
       "    }\n",
       "\n",
       "    .dataframe tbody tr th {\n",
       "        vertical-align: top;\n",
       "    }\n",
       "\n",
       "    .dataframe thead th {\n",
       "        text-align: right;\n",
       "    }\n",
       "</style>\n",
       "<table border=\"1\" class=\"dataframe\">\n",
       "  <thead>\n",
       "    <tr style=\"text-align: right;\">\n",
       "      <th></th>\n",
       "      <th>class</th>\n",
       "      <th>message</th>\n",
       "    </tr>\n",
       "  </thead>\n",
       "  <tbody>\n",
       "    <tr>\n",
       "      <th>emails/spam\\00001.7848dde101aa985090474a91ec93fcf0</th>\n",
       "      <td>spam</td>\n",
       "      <td>&lt;!DOCTYPE HTML PUBLIC \"-//W3C//DTD HTML 4.0 Tr...</td>\n",
       "    </tr>\n",
       "    <tr>\n",
       "      <th>emails/spam\\00002.d94f1b97e48ed3b553b3508d116e6a09</th>\n",
       "      <td>spam</td>\n",
       "      <td>1) Fight The Risk of Cancer!\\n\\nhttp://www.adc...</td>\n",
       "    </tr>\n",
       "    <tr>\n",
       "      <th>emails/spam\\00003.2ee33bc6eacdb11f38d052c44819ba6c</th>\n",
       "      <td>spam</td>\n",
       "      <td>1) Fight The Risk of Cancer!\\n\\nhttp://www.adc...</td>\n",
       "    </tr>\n",
       "    <tr>\n",
       "      <th>emails/spam\\00004.eac8de8d759b7e74154f142194282724</th>\n",
       "      <td>spam</td>\n",
       "      <td>##############################################...</td>\n",
       "    </tr>\n",
       "    <tr>\n",
       "      <th>emails/spam\\00005.57696a39d7d84318ce497886896bf90d</th>\n",
       "      <td>spam</td>\n",
       "      <td>I thought you might like these:\\n\\n1) Slim Dow...</td>\n",
       "    </tr>\n",
       "  </tbody>\n",
       "</table>\n",
       "</div>"
      ],
      "text/plain": [
       "                                                   class  \\\n",
       "emails/spam\\00001.7848dde101aa985090474a91ec93fcf0  spam   \n",
       "emails/spam\\00002.d94f1b97e48ed3b553b3508d116e6a09  spam   \n",
       "emails/spam\\00003.2ee33bc6eacdb11f38d052c44819ba6c  spam   \n",
       "emails/spam\\00004.eac8de8d759b7e74154f142194282724  spam   \n",
       "emails/spam\\00005.57696a39d7d84318ce497886896bf90d  spam   \n",
       "\n",
       "                                                                                              message  \n",
       "emails/spam\\00001.7848dde101aa985090474a91ec93fcf0  <!DOCTYPE HTML PUBLIC \"-//W3C//DTD HTML 4.0 Tr...  \n",
       "emails/spam\\00002.d94f1b97e48ed3b553b3508d116e6a09  1) Fight The Risk of Cancer!\\n\\nhttp://www.adc...  \n",
       "emails/spam\\00003.2ee33bc6eacdb11f38d052c44819ba6c  1) Fight The Risk of Cancer!\\n\\nhttp://www.adc...  \n",
       "emails/spam\\00004.eac8de8d759b7e74154f142194282724  ##############################################...  \n",
       "emails/spam\\00005.57696a39d7d84318ce497886896bf90d  I thought you might like these:\\n\\n1) Slim Dow...  "
      ]
     },
     "execution_count": 5,
     "metadata": {},
     "output_type": "execute_result"
    }
   ],
   "source": [
    "data.head()"
   ]
  },
  {
   "cell_type": "code",
   "execution_count": 6,
   "metadata": {},
   "outputs": [
    {
     "data": {
      "text/html": [
       "<div>\n",
       "<style scoped>\n",
       "    .dataframe tbody tr th:only-of-type {\n",
       "        vertical-align: middle;\n",
       "    }\n",
       "\n",
       "    .dataframe tbody tr th {\n",
       "        vertical-align: top;\n",
       "    }\n",
       "\n",
       "    .dataframe thead th {\n",
       "        text-align: right;\n",
       "    }\n",
       "</style>\n",
       "<table border=\"1\" class=\"dataframe\">\n",
       "  <thead>\n",
       "    <tr style=\"text-align: right;\">\n",
       "      <th></th>\n",
       "      <th>class</th>\n",
       "      <th>message</th>\n",
       "    </tr>\n",
       "  </thead>\n",
       "  <tbody>\n",
       "    <tr>\n",
       "      <th>emails/ham\\02496.aae0c81581895acfe65323f344340856</th>\n",
       "      <td>ham</td>\n",
       "      <td>Man killed 'trying to surf' on Tube train \\n\\n...</td>\n",
       "    </tr>\n",
       "    <tr>\n",
       "      <th>emails/ham\\02497.60497db0a06c2132ec2374b2898084d3</th>\n",
       "      <td>ham</td>\n",
       "      <td>Hi Gianni,\\n\\n\\n\\nA very good resource for thi...</td>\n",
       "    </tr>\n",
       "    <tr>\n",
       "      <th>emails/ham\\02498.09835f512f156da210efb99fcc523e21</th>\n",
       "      <td>ham</td>\n",
       "      <td>Gianni Ponzi wrote:\\n\\n&gt; I have a prob when tr...</td>\n",
       "    </tr>\n",
       "    <tr>\n",
       "      <th>emails/ham\\02499.b4af165650f138b10f9941f6cc5bce3c</th>\n",
       "      <td>ham</td>\n",
       "      <td>Neale Pickett &lt;neale@woozle.org&gt; writes:\\n\\n\\n...</td>\n",
       "    </tr>\n",
       "    <tr>\n",
       "      <th>emails/ham\\02500.05b3496ce7bca306bed0805425ec8621</th>\n",
       "      <td>ham</td>\n",
       "      <td>\\n\\nHi,\\n\\n\\n\\nI think you need to give us a l...</td>\n",
       "    </tr>\n",
       "  </tbody>\n",
       "</table>\n",
       "</div>"
      ],
      "text/plain": [
       "                                                  class  \\\n",
       "emails/ham\\02496.aae0c81581895acfe65323f344340856   ham   \n",
       "emails/ham\\02497.60497db0a06c2132ec2374b2898084d3   ham   \n",
       "emails/ham\\02498.09835f512f156da210efb99fcc523e21   ham   \n",
       "emails/ham\\02499.b4af165650f138b10f9941f6cc5bce3c   ham   \n",
       "emails/ham\\02500.05b3496ce7bca306bed0805425ec8621   ham   \n",
       "\n",
       "                                                                                             message  \n",
       "emails/ham\\02496.aae0c81581895acfe65323f344340856  Man killed 'trying to surf' on Tube train \\n\\n...  \n",
       "emails/ham\\02497.60497db0a06c2132ec2374b2898084d3  Hi Gianni,\\n\\n\\n\\nA very good resource for thi...  \n",
       "emails/ham\\02498.09835f512f156da210efb99fcc523e21  Gianni Ponzi wrote:\\n\\n> I have a prob when tr...  \n",
       "emails/ham\\02499.b4af165650f138b10f9941f6cc5bce3c  Neale Pickett <neale@woozle.org> writes:\\n\\n\\n...  \n",
       "emails/ham\\02500.05b3496ce7bca306bed0805425ec8621  \\n\\nHi,\\n\\n\\n\\nI think you need to give us a l...  "
      ]
     },
     "execution_count": 6,
     "metadata": {},
     "output_type": "execute_result"
    }
   ],
   "source": [
    "data.tail()"
   ]
  },
  {
   "cell_type": "code",
   "execution_count": 7,
   "metadata": {},
   "outputs": [
    {
     "name": "stdout",
     "output_type": "stream",
     "text": [
      " Volume in drive C has no label.\n",
      " Volume Serial Number is 54A4-BF1B\n",
      "\n",
      " Directory of C:\\Users\\mbman\\ML_Python\\Machine Learning\\Section_5\\NLP_2\n",
      "\n",
      "05/05/2018  03:33 AM    <DIR>          .\n",
      "05/05/2018  03:33 AM    <DIR>          ..\n",
      "05/05/2018  01:39 AM    <DIR>          .ipynb_checkpoints\n",
      "05/04/2018  12:02 AM         1,655,177 04-TfIdf_TextClassifier.ipynb\n",
      "05/05/2018  03:23 AM    <DIR>          emails\n",
      "05/04/2018  02:47 PM         6,032,542 emails.zip\n",
      "05/05/2018  12:05 AM            17,377 FileIO.ipynb\n",
      "05/04/2018  11:45 PM            15,035 football.jpg\n",
      "04/30/2018  02:27 AM             5,869 NLP_Intro.ipynb\n",
      "04/30/2018  07:07 PM             8,024 StemmingAndLemmatizer.ipynb\n",
      "05/01/2018  10:28 PM            78,779 TextSummarizer.ipynb\n",
      "05/05/2018  03:33 AM             5,165 Untitled.ipynb\n",
      "05/04/2018  03:05 PM                 0 write_bin.txt\n",
      "05/04/2018  11:44 PM                 1 write_bin_2.txt\n",
      "              10 File(s)      7,817,969 bytes\n",
      "               4 Dir(s)  19,346,087,936 bytes free\n"
     ]
    }
   ],
   "source": [
    "ls"
   ]
  },
  {
   "cell_type": "code",
   "execution_count": 9,
   "metadata": {},
   "outputs": [
    {
     "data": {
      "text/plain": [
       "MultinomialNB(alpha=1.0, class_prior=None, fit_prior=True)"
      ]
     },
     "execution_count": 9,
     "metadata": {},
     "output_type": "execute_result"
    }
   ],
   "source": [
    "vectorizer = CountVectorizer()\n",
    "counts = vectorizer.fit_transform(data['message'].values)            ##What is happening here???????\n",
    "\n",
    "classifier = MultinomialNB()\n",
    "targets = data['class'].values \n",
    "classifier.fit(counts,targets)"
   ]
  },
  {
   "cell_type": "code",
   "execution_count": 10,
   "metadata": {},
   "outputs": [
    {
     "data": {
      "text/plain": [
       "array(['spam', 'ham'], dtype='<U4')"
      ]
     },
     "execution_count": 10,
     "metadata": {},
     "output_type": "execute_result"
    }
   ],
   "source": [
    "examples = ['Free Free Free movie passes !!!', 'Hey John,where are you?']\n",
    "examples_counts = vectorizer.transform(examples)\n",
    "predictions = classifier.predict(examples_counts)\n",
    "predictions"
   ]
  },
  {
   "cell_type": "code",
   "execution_count": 11,
   "metadata": {},
   "outputs": [
    {
     "data": {
      "text/plain": [
       "emails/spam\\00001.7848dde101aa985090474a91ec93fcf0    <!DOCTYPE HTML PUBLIC \"-//W3C//DTD HTML 4.0 Tr...\n",
       "emails/spam\\00002.d94f1b97e48ed3b553b3508d116e6a09    1) Fight The Risk of Cancer!\\n\\nhttp://www.adc...\n",
       "emails/spam\\00003.2ee33bc6eacdb11f38d052c44819ba6c    1) Fight The Risk of Cancer!\\n\\nhttp://www.adc...\n",
       "emails/spam\\00004.eac8de8d759b7e74154f142194282724    ##############################################...\n",
       "emails/spam\\00005.57696a39d7d84318ce497886896bf90d    I thought you might like these:\\n\\n1) Slim Dow...\n",
       "emails/spam\\00006.5ab5620d3d7c6c0db76234556a16f6c1    A POWERHOUSE GIFTING PROGRAM You Don't Want To...\n",
       "emails/spam\\00007.d8521faf753ff9ee989122f6816f87d7    Help wanted.  We are a 14 year old fortune 500...\n",
       "emails/spam\\00008.dfd941deb10f5eed78b1594b131c9266    <html>\\n\\n<head>\\n\\n<title>ReliaQuote - Save U...\n",
       "emails/spam\\00009.027bf6e0b0c4ab34db3ce0ea4bf2edab    TIRED OF THE BULL OUT THERE?\\n\\nWant To Stop L...\n",
       "emails/spam\\00010.445affef4c70feec58f9198cfbc22997    Dear ricardo1 ,\\n\\n\\n\\n<html>\\n\\n<body>\\n\\n<ce...\n",
       "emails/spam\\00011.61816b9ad167657773a427d890d0468e    Cellular Phone Accessories All At Below Wholes...\n",
       "emails/spam\\00012.381e4f512915109ba1e0853a7a8407b2    <table width=\"600\" border=\"20\" align=\"center\" ...\n",
       "emails/spam\\00013.d3f0b591a65f116ea5d9d4ad919f83aa    1) Fight The Risk of Cancer!\\n\\nhttp://www.adc...\n",
       "emails/spam\\00014.7d38c46424f24fc8012ac15a95a2ac14    <HTML><HEAD><TITLE>FREE Motorola Cell Phone wi...\n",
       "emails/spam\\00015.048434ab64c86cf890eda1326a5643f5    <HTML><HEAD><TITLE>Lowest Rate Services</TITLE...\n",
       "emails/spam\\00016.67fb281761ca1051a22ec3f21917e7c0    \\n\\n\\n\\nWant to watch Sporting Events?--Movies...\n",
       "emails/spam\\00017.1a938ecddd047b93cbd7ed92c241e6d1    Help wanted.  We are a 14 year old fortune 500...\n",
       "emails/spam\\00018.5b2765c42b7648d41c93b9b27140b23a    DEAR FRIEND,I AM MRS.  SESE-SEKO WIDOW OF LATE...\n",
       "emails/spam\\00019.bbc97ad616ffd06e93ce0f821ca8c381    Lowest rates available for term life insurance...\n",
       "emails/spam\\00020.29725cf331fc21e18a1809e7d8b27332    1) Fight The Risk of Cancer!\\n\\nhttp://www.adc...\n",
       "emails/spam\\00021.effe1449462a9d7ad7af0f1c94b1a237    CENTRAL BANK OF NIGERIA\\n\\nFOREIGN REMITTANCE ...\n",
       "emails/spam\\00022.8203cdf03888f656dc0381701148f73d    --===_SecAtt_000_1fheucnqggtggp\\n\\nContent-Typ...\n",
       "emails/spam\\00023.b6d27c684f5fc803cfa1060adb2d0805    ------=_NextPart_000_00B2_83B03D1E.C6530E24\\n\\...\n",
       "emails/spam\\00024.6b5437b14d403176c3f046c871b5b52f    This is a multi-part message in MIME format.\\n...\n",
       "emails/spam\\00025.619ab8051359048795e3cd09e82ad1a0    <HTML><HEAD>\\n\\n<META http-equiv=3DContent-Typ...\n",
       "emails/spam\\00026.da18dbed27ae933172f7a70f860c6ad0    DEAR FRIEND,I AM MRS.  SESE-SEKO WIDOW OF LATE...\n",
       "emails/spam\\00027.d1d0f97e096fe08fc80a4939355759e7    1) Fight The Risk of Cancer!\\n\\nhttp://www.adc...\n",
       "emails/spam\\00028.ace98eff213f4e6314b5571aece625e1    <HTML><HEAD><TITLE>MILFhunter</TITLE>\\n\\n<META...\n",
       "emails/spam\\00029.de865ad8d5ad0df985ae2f72388befba    <html>\\n\\n<head>\\n\\n</head>\\n\\n<body>\\n\\n\\n\\n<...\n",
       "emails/spam\\00030.0c9cdd9d4025bd55dac02719ec8d29dc    <html>\\n\\n\\n\\n<head>\\n\\n<meta http-equiv=3D\"Co...\n",
       "                                                                            ...                        \n",
       "emails/ham\\02471.18281d43dc0775e915267c2ea5170f1f     This is possible, however using SA as a block ...\n",
       "emails/ham\\02472.5c879dd55c3d4171e1787e8529bbd7e1     \\n\\n--- Martin Adamson <martin@srv0.ems.ed.ac....\n",
       "emails/ham\\02473.207afa13ad7d745dfd1344f84531ac16     ----- Original Message -----\\n\\nFrom: \"Tim Cha...\n",
       "emails/ham\\02474.c76ffef81a2529389e6c3bbb172184d7     \\n\\n> Mr Tim Chapman, freelance gentleman of l...\n",
       "emails/ham\\02475.9277ee243e3f51fa53ed6be55798d360     Smith, Graham - Computing Technician wrote:\\n\\...\n",
       "emails/ham\\02476.de1d459426662492dd1235046b504c3d     Geege wrote a strange story:\\n\\n>I know a guy ...\n",
       "emails/ham\\02477.07b2069e9827cfd6f97d07eea2913d57     \\n\\n[Paul Moore]\\n\\n>    but let's walk before...\n",
       "emails/ham\\02478.40723f38488bddaf5a24ef2a91679c75     On Mon, Nov 25, 2002 at 06:54:49PM +0000, Phil...\n",
       "emails/ham\\02479.14365bcad3a60fcf24c5c1813f6291fb     \\n\\nI don't know how one can expect better and...\n",
       "emails/ham\\02480.72714df60c9be29d6f7985c777cbfc13     No, you need to learn how declarations work in...\n",
       "emails/ham\\02481.176b368fe4b90682f33647d65a8b97a3     \\n\\n    Richie> As I understand it, post-1.8x ...\n",
       "emails/ham\\02482.35c166ec6a85e108ad693ea43329762f     \\n\\n    Paul> I suspect the best answer is to ...\n",
       "emails/ham\\02483.ab1bee02c10ddecc0e86c39eaebc2996     The Times\\n\\n\\n\\n \\n\\n December 04, 2002 \\n\\n ...\n",
       "emails/ham\\02484.32a0bca2600788be144b93cae341efbf     I have to say I was surprised about Jacko dang...\n",
       "emails/ham\\02485.ba9aebbdbec0d9fecec595eeebe5db87     Now then I recently read a novel about exactly...\n",
       "emails/ham\\02486.bdf90e871b673fd14f47f3fe36622742     What the hell is it with these mini remote con...\n",
       "emails/ham\\02487.c2e725d509201dc30debb7bd94d07f5e     here, for your enjoyment, is a little somethin...\n",
       "emails/ham\\02488.68fed64ff8169f1505b74080bb7b6158     Sean O'Donnell wrote:\\n\\n> Doesnt answer your ...\n",
       "emails/ham\\02489.85c20a6f9d75714d9f44398baeddd416     Joe McNally writes:\\n\\n\\n\\n> What the hell is ...\n",
       "emails/ham\\02490.7be0f683db6994ddd8445cdcc2eb5042     http://news.bbc.co.uk/1/hi/world/europe/254182...\n",
       "emails/ham\\02491.c26245be2a5096fa86647d594561c511     Hi all.\\n\\nDoes anyone know how to set up dual...\n",
       "emails/ham\\02492.6aede44f654a1bbc60c95c7dd770e624     Carlos Luna wrote:\\n\\n\\n\\n>Hi all.\\n\\n>Does an...\n",
       "emails/ham\\02493.f9f2870094430b7db8b0c1052b302cf1     Hi all\\n\\n\\n\\n\\n\\nI have a prob when trying to...\n",
       "emails/ham\\02494.a14f2d3a9bef3f59aa419b03aee8f871     Tim Chapman writes:\\n\\n\\n\\n> http://news.bbc.c...\n",
       "emails/ham\\02495.5064946e77b3046873da91fc47656465     > I had the same problem when installing Win o...\n",
       "emails/ham\\02496.aae0c81581895acfe65323f344340856     Man killed 'trying to surf' on Tube train \\n\\n...\n",
       "emails/ham\\02497.60497db0a06c2132ec2374b2898084d3     Hi Gianni,\\n\\n\\n\\nA very good resource for thi...\n",
       "emails/ham\\02498.09835f512f156da210efb99fcc523e21     Gianni Ponzi wrote:\\n\\n> I have a prob when tr...\n",
       "emails/ham\\02499.b4af165650f138b10f9941f6cc5bce3c     Neale Pickett <neale@woozle.org> writes:\\n\\n\\n...\n",
       "emails/ham\\02500.05b3496ce7bca306bed0805425ec8621     \\n\\nHi,\\n\\n\\n\\nI think you need to give us a l...\n",
       "Name: message, Length: 3000, dtype: object"
      ]
     },
     "execution_count": 11,
     "metadata": {},
     "output_type": "execute_result"
    }
   ],
   "source": [
    "data['message']"
   ]
  },
  {
   "cell_type": "code",
   "execution_count": 12,
   "metadata": {},
   "outputs": [
    {
     "data": {
      "text/plain": [
       "array(['<!DOCTYPE HTML PUBLIC \"-//W3C//DTD HTML 4.0 Transitional//EN\">\\n\\n<HTML><HEAD>\\n\\n<META content=3D\"text/html; charset=3Dwindows-1252\" http-equiv=3DContent-T=\\n\\nype>\\n\\n<META content=3D\"MSHTML 5.00.2314.1000\" name=3DGENERATOR></HEAD>\\n\\n<BODY><!-- Inserted by Calypso -->\\n\\n<TABLE border=3D0 cellPadding=3D0 cellSpacing=3D2 id=3D_CalyPrintHeader_ r=\\n\\nules=3Dnone \\n\\nstyle=3D\"COLOR: black; DISPLAY: none\" width=3D\"100%\">\\n\\n  <TBODY>\\n\\n  <TR>\\n\\n    <TD colSpan=3D3>\\n\\n      <HR color=3Dblack noShade SIZE=3D1>\\n\\n    </TD></TR></TD></TR>\\n\\n  <TR>\\n\\n    <TD colSpan=3D3>\\n\\n      <HR color=3Dblack noShade SIZE=3D1>\\n\\n    </TD></TR></TBODY></TABLE><!-- End Calypso --><!-- Inserted by Calypso=\\n\\n --><FONT \\n\\ncolor=3D#000000 face=3DVERDANA,ARIAL,HELVETICA size=3D-2><BR></FONT></TD><=\\n\\n/TR></TABLE><!-- End Calypso --><FONT color=3D#ff0000 \\n\\nface=3D\"Copperplate Gothic Bold\" size=3D5 PTSIZE=3D\"10\">\\n\\n<CENTER>Save up to 70% on Life Insurance.</CENTER></FONT><FONT color=3D#ff=\\n\\n0000 \\n\\nface=3D\"Copperplate Gothic Bold\" size=3D5 PTSIZE=3D\"10\">\\n\\n<CENTER>Why Spend More Than You Have To?\\n\\n<CENTER><FONT color=3D#ff0000 face=3D\"Copperplate Gothic Bold\" size=3D5 PT=\\n\\nSIZE=3D\"10\">\\n\\n<CENTER>Life Quote Savings\\n\\n<CENTER>\\n\\n<P align=3Dleft></P>\\n\\n<P align=3Dleft></P></FONT></U></I></B><BR></FONT></U></B></U></I>\\n\\n<P></P>\\n\\n<CENTER>\\n\\n<TABLE border=3D0 borderColor=3D#111111 cellPadding=3D0 cellSpacing=3D0 wi=\\n\\ndth=3D650>\\n\\n  <TBODY></TBODY></TABLE>\\n\\n<TABLE border=3D0 borderColor=3D#111111 cellPadding=3D5 cellSpacing=3D0 wi=\\n\\ndth=3D650>\\n\\n  <TBODY>\\n\\n  <TR>\\n\\n    <TD colSpan=3D2 width=3D\"35%\"><B><FONT face=3DVerdana size=3D4>Ensurin=\\n\\ng your \\n\\n      family\\'s financial security is very important. Life Quote Savings ma=\\n\\nkes \\n\\n      buying life insurance simple and affordable. We Provide FREE Access =\\n\\nto The \\n\\n      Very Best Companies and The Lowest Rates.</FONT></B></TD></TR>\\n\\n  <TR>\\n\\n    <TD align=3Dmiddle vAlign=3Dtop width=3D\"18%\">\\n\\n      <TABLE borderColor=3D#111111 width=3D\"100%\">\\n\\n        <TBODY>\\n\\n        <TR>\\n\\n          <TD style=3D\"PADDING-LEFT: 5px; PADDING-RIGHT: 5px\" width=3D\"100=\\n\\n%\"><FONT \\n\\n            face=3DVerdana size=3D4><B>Life Quote Savings</B> is FAST, EAS=\\n\\nY and \\n\\n            SAVES you money! Let us help you get started with the best val=\\n\\nues in \\n\\n            the country on new coverage. You can SAVE hundreds or even tho=\\n\\nusands \\n\\n            of dollars by requesting a FREE quote from Lifequote Savings. =\\n\\nOur \\n\\n            service will take you less than 5 minutes to complete. Shop an=\\n\\nd \\n\\n            compare. SAVE up to 70% on all types of Life insurance! \\n\\n</FONT></TD></TR>\\n\\n        <TR><BR><BR>\\n\\n          <TD height=3D50 style=3D\"PADDING-LEFT: 5px; PADDING-RIGHT: 5px\" \\n\\n          width=3D\"100%\">\\n\\n            <P align=3Dcenter><B><FONT face=3DVerdana size=3D5><A \\n\\n            href=3D\"http://website.e365.cc/savequote/\">Click Here For Your=\\n\\n \\n\\n            Free Quote!</A></FONT></B></P></TD>\\n\\n          <P><FONT face=3DVerdana size=3D4><STRONG>\\n\\n          <CENTER>Protecting your family is the best investment you\\'ll eve=\\n\\nr \\n\\n          make!<BR></B></TD></TR>\\n\\n        <TR><BR><BR></STRONG></FONT></TD></TR></TD></TR>\\n\\n        <TR></TR></TBODY></TABLE>\\n\\n      <P align=3Dleft><FONT face=3D\"Arial, Helvetica, sans-serif\" size=3D2=\\n\\n></FONT></P>\\n\\n      <P></P>\\n\\n      <CENTER><BR><BR><BR>\\n\\n      <P></P>\\n\\n      <P align=3Dleft><BR></B><BR><BR><BR><BR></P>\\n\\n      <P align=3Dcenter><BR></P>\\n\\n      <P align=3Dleft><BR></B><BR><BR></FONT>If you are in receipt of this=\\n\\n email \\n\\n      in error and/or wish to be removed from our list, <A \\n\\n      href=3D\"mailto:coins@btamail.net.cn\">PLEASE CLICK HERE</A> AND TYPE =\\n\\nREMOVE. If you \\n\\n      reside in any state which prohibits e-mail solicitations for insuran=\\n\\nce, \\n\\n      please disregard this \\n\\n      email.<BR></FONT><BR><BR><BR><BR><BR><BR><BR><BR><BR><BR><BR><BR><BR=\\n\\n><BR><BR><BR></FONT></P></CENTER></CENTER></TR></TBODY></TABLE></CENTER></=\\n\\nCENTER></CENTER></CENTER></CENTER></BODY></HTML>\\n\\n\\n\\n\\n\\n\\n',\n",
       "       \"1) Fight The Risk of Cancer!\\n\\nhttp://www.adclick.ws/p.cfm?o=315&s=pk007\\n\\n\\n\\n2) Slim Down - Guaranteed to lose 10-12 lbs in 30 days\\n\\nhttp://www.adclick.ws/p.cfm?o=249&s=pk007\\n\\n\\n\\n3) Get the Child Support You Deserve - Free Legal Advice\\n\\nhttp://www.adclick.ws/p.cfm?o=245&s=pk002\\n\\n\\n\\n4) Join the Web's Fastest Growing Singles Community\\n\\nhttp://www.adclick.ws/p.cfm?o=259&s=pk007\\n\\n\\n\\n5) Start Your Private Photo Album Online!\\n\\nhttp://www.adclick.ws/p.cfm?o=283&s=pk007\\n\\n\\n\\nHave a Wonderful Day,\\n\\nOffer Manager\\n\\nPrizeMama\\n\\n\\n\\n\\n\\n\\n\\n\\n\\n\\n\\n\\n\\n\\n\\n\\n\\n\\n\\n\\n\\n\\n\\n\\n\\n\\n\\nIf you wish to leave this list please use the link below.\\n\\nhttp://www.qves.com/trim/?ilug@linux.ie%7C17%7C114258\\n\\n\\n\\n\\n\\n-- \\n\\nIrish Linux Users' Group: ilug@linux.ie\\n\\nhttp://www.linux.ie/mailman/listinfo/ilug for (un)subscription information.\\n\\nList maintainer: listmaster@linux.ie\\n\\n\\n\",\n",
       "       \"1) Fight The Risk of Cancer!\\n\\nhttp://www.adclick.ws/p.cfm?o=315&s=pk007\\n\\n\\n\\n2) Slim Down - Guaranteed to lose 10-12 lbs in 30 days\\n\\nhttp://www.adclick.ws/p.cfm?o=249&s=pk007\\n\\n\\n\\n3) Get the Child Support You Deserve - Free Legal Advice\\n\\nhttp://www.adclick.ws/p.cfm?o=245&s=pk002\\n\\n\\n\\n4) Join the Web's Fastest Growing Singles Community\\n\\nhttp://www.adclick.ws/p.cfm?o=259&s=pk007\\n\\n\\n\\n5) Start Your Private Photo Album Online!\\n\\nhttp://www.adclick.ws/p.cfm?o=283&s=pk007\\n\\n\\n\\nHave a Wonderful Day,\\n\\nOffer Manager\\n\\nPrizeMama\\n\\n\\n\\n\\n\\n\\n\\n\\n\\n\\n\\n\\n\\n\\n\\n\\n\\n\\n\\n\\n\\n\\n\\n\\n\\n\\n\\nIf you wish to leave this list please use the link below.\\n\\nhttp://www.qves.com/trim/?zzzz@spamassassin.taint.org%7C17%7C308417\\n\\n\\n\",\n",
       "       ...,\n",
       "       \"Gianni Ponzi wrote:\\n\\n> I have a prob when trying to install Linux (tried RedHat, Suse) on my\\n\\n> laptop. I can start the install but after about 2min, the whole pc just\\n\\n> dies.\\n\\n\\n\\nCan you disable DMA and see if this makes a difference?\\n\\n\\n\\nNick\\n\\n\\n\\n-- \\n\\nIrish Linux Users' Group: ilug@linux.ie\\n\\nhttp://www.linux.ie/mailman/listinfo/ilug for (un)subscription information.\\n\\nList maintainer: listmaster@linux.ie\\n\\n\\n\\n\\n\",\n",
       "       \"Neale Pickett <neale@woozle.org> writes:\\n\\n\\n\\n> Skip Montanaro <skip@pobox.com> writes:\\n\\n> \\n\\n> > Yes.  It also seems to me that web page content filtering proxies (you\\n\\n> > know, keeping your kids or employees from visiting XXX websites) would\\n\\n> > be another good application of the technology.\\n\\n> \\n\\n> Not to mention IDS (Intrusion Detection Systems).\\n\\n> \\n\\n> IANAS but I have a friend who is, and he's suggested to me a few times\\n\\n> that it would be very interesting and possibly fruitful to apply\\n\\n> Bayesian analysis to network security.  But I think I'm going to have to\\n\\n> pull out the probab/stats book from college before I embark on such a\\n\\n> thing :)\\n\\n\\n\\nI have half a mind to see how it works as a replacement for gnus'\\n\\nadaptive scoring.  A harder problem than spam filtering, I guess, but\\n\\nit might be interesting.\\n\\n\\n\\nCheers,\\n\\nM.\\n\\n\\n\\n\\n\\n\\n\\n_______________________________________________\\n\\nSpambayes mailing list\\n\\nSpambayes@python.org\\n\\nhttp://mail.python.org/mailman/listinfo/spambayes\\n\\n\\n\\n\\n\",\n",
       "       \"\\n\\nHi,\\n\\n\\n\\nI think you need to give us a little more detailed information.\\n\\n\\n\\nOn Wed, 04 Dec 2002, Gianni Ponzi wrote:\\n\\n\\n\\n> I have a prob when trying to install Linux (tried RedHat, Suse) on my\\n\\n> laptop. \\n\\n\\n\\nYou get _exactly_ the same problem with Suse and RedHat, is that right?\\n\\nWhat versions of these have you used?\\n\\n\\n\\n> I can start the install but after about 2min, the whole pc just\\n\\n> dies.\\n\\n\\n\\nAs in freezes, reboots?  Do you get any errors?\\n\\n\\n\\n> I know it's not a Linux prob and here is what I have encountered:\\n\\n> \\n\\n> I had the same problem when installing Win on it and eventually sorted it\\n\\n> out by disabling the infrared port. \\n\\n\\n\\nDid you disable it in the BIOS or in windows?\\n\\n\\n\\n> I'm guessing this might be same prob although I'm not sure. I am very new\\n\\n> to Linux so it's not that easy for me to work it out. I did manage to\\n\\n> follow the setup procedure at one stage (using images on disks) and it\\n\\n> cuts out either as it's trying to verify what CD-Rom I have or just after\\n\\n> (hence my suspicion of the infrared port again).\\n\\n\\n\\n1. What laptop is it?  What is the Processor and how much RAM does it have?\\n\\n\\n\\n2. You cannot simply boot off the cdrom?  It must be quite an old laptop\\n\\nthen or else cdrom booting is disabled in the BIOS.  Is the cdrom external\\n\\nor strange in some way?\\n\\n\\n\\nGavin\\n\\n\\n\\n-- \\n\\nIrish Linux Users' Group: ilug@linux.ie\\n\\nhttp://www.linux.ie/mailman/listinfo/ilug for (un)subscription information.\\n\\nList maintainer: listmaster@linux.ie\\n\\n\\n\\n\\n\"],\n",
       "      dtype=object)"
      ]
     },
     "execution_count": 12,
     "metadata": {},
     "output_type": "execute_result"
    }
   ],
   "source": [
    "data['message'].values"
   ]
  },
  {
   "cell_type": "code",
   "execution_count": 13,
   "metadata": {},
   "outputs": [
    {
     "name": "stdout",
     "output_type": "stream",
     "text": [
      "  (0, 20104)\t1\n",
      "  (0, 15629)\t1\n",
      "  (0, 30882)\t1\n",
      "  (0, 50553)\t1\n",
      "  (0, 36099)\t1\n",
      "  (0, 44217)\t1\n",
      "  (0, 58467)\t1\n",
      "  (0, 51216)\t1\n",
      "  (0, 10966)\t1\n",
      "  (0, 47038)\t1\n",
      "  (0, 46816)\t1\n",
      "  (0, 54656)\t1\n",
      "  (0, 43219)\t2\n",
      "  (0, 16635)\t1\n",
      "  (0, 38953)\t1\n",
      "  (0, 14434)\t1\n",
      "  (0, 16777)\t1\n",
      "  (0, 36134)\t1\n",
      "  (0, 35030)\t1\n",
      "  (0, 46819)\t1\n",
      "  (0, 12870)\t1\n",
      "  (0, 58727)\t1\n",
      "  (0, 22787)\t1\n",
      "  (0, 22197)\t2\n",
      "  (0, 53337)\t2\n",
      "  :\t:\n",
      "  (2999, 12870)\t2\n",
      "  (2999, 53337)\t1\n",
      "  (2999, 24806)\t2\n",
      "  (2999, 28034)\t1\n",
      "  (2999, 10697)\t1\n",
      "  (2999, 40368)\t2\n",
      "  (2999, 40892)\t4\n",
      "  (2999, 15189)\t1\n",
      "  (2999, 39016)\t1\n",
      "  (2999, 30375)\t5\n",
      "  (2999, 58736)\t1\n",
      "  (2999, 26143)\t2\n",
      "  (2999, 55923)\t1\n",
      "  (2999, 47451)\t1\n",
      "  (2999, 53220)\t12\n",
      "  (2999, 10746)\t5\n",
      "  (2999, 56678)\t1\n",
      "  (2999, 31369)\t6\n",
      "  (2999, 27728)\t5\n",
      "  (2999, 60793)\t6\n",
      "  (2999, 37734)\t1\n",
      "  (2999, 40661)\t4\n",
      "  (2999, 53745)\t6\n",
      "  (2999, 14755)\t1\n",
      "  (2999, 28855)\t1\n"
     ]
    }
   ],
   "source": [
    "print(counts)"
   ]
  },
  {
   "cell_type": "code",
   "execution_count": null,
   "metadata": {},
   "outputs": [],
   "source": []
  },
  {
   "cell_type": "code",
   "execution_count": null,
   "metadata": {},
   "outputs": [],
   "source": []
  },
  {
   "cell_type": "code",
   "execution_count": null,
   "metadata": {},
   "outputs": [],
   "source": []
  },
  {
   "cell_type": "code",
   "execution_count": null,
   "metadata": {},
   "outputs": [],
   "source": []
  },
  {
   "cell_type": "code",
   "execution_count": null,
   "metadata": {},
   "outputs": [],
   "source": []
  }
 ],
 "metadata": {
  "kernelspec": {
   "display_name": "Python 3",
   "language": "python",
   "name": "python3"
  },
  "language_info": {
   "codemirror_mode": {
    "name": "ipython",
    "version": 3
   },
   "file_extension": ".py",
   "mimetype": "text/x-python",
   "name": "python",
   "nbconvert_exporter": "python",
   "pygments_lexer": "ipython3",
   "version": "3.6.5"
  }
 },
 "nbformat": 4,
 "nbformat_minor": 2
}
