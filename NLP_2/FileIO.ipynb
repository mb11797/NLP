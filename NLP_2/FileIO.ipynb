{
 "cells": [
  {
   "cell_type": "code",
   "execution_count": 1,
   "metadata": {},
   "outputs": [],
   "source": [
    "x = 2"
   ]
  },
  {
   "cell_type": "code",
   "execution_count": 2,
   "metadata": {},
   "outputs": [
    {
     "data": {
      "text/plain": [
       "'C:\\\\Users\\\\mbman\\\\ML_Python\\\\Machine Learning\\\\Section_5\\\\NLP_2'"
      ]
     },
     "execution_count": 2,
     "metadata": {},
     "output_type": "execute_result"
    }
   ],
   "source": [
    "pwd"
   ]
  },
  {
   "cell_type": "code",
   "execution_count": 17,
   "metadata": {},
   "outputs": [],
   "source": [
    "file = open('write_bin.txt','w')"
   ]
  },
  {
   "cell_type": "code",
   "execution_count": 18,
   "metadata": {},
   "outputs": [],
   "source": [
    "# This module provides a portable way of using operating system dependent functionality. If you just want to read or write a file see open(), if you want to manipulate paths, see the os.path module, and if you want to read all the lines in all the files on the command line see the fileinput module. For creating temporary files and directories see the tempfile module, and for high-level file and directory handling see the shutil module.\n",
    "import os"
   ]
  },
  {
   "cell_type": "code",
   "execution_count": 19,
   "metadata": {},
   "outputs": [
    {
     "data": {
      "text/plain": [
       "'C:\\\\Users\\\\mbman\\\\ML_Python\\\\Machine Learning\\\\Section_5\\\\NLP_2'"
      ]
     },
     "execution_count": 19,
     "metadata": {},
     "output_type": "execute_result"
    }
   ],
   "source": [
    "os.getcwd()"
   ]
  },
  {
   "cell_type": "code",
   "execution_count": 20,
   "metadata": {},
   "outputs": [
    {
     "ename": "TypeError",
     "evalue": "write() argument must be str, not int",
     "output_type": "error",
     "traceback": [
      "\u001b[1;31m---------------------------------------------------------------------------\u001b[0m",
      "\u001b[1;31mTypeError\u001b[0m                                 Traceback (most recent call last)",
      "\u001b[1;32m<ipython-input-20-b797d2e155a4>\u001b[0m in \u001b[0;36m<module>\u001b[1;34m()\u001b[0m\n\u001b[1;32m----> 1\u001b[1;33m \u001b[0mfile\u001b[0m\u001b[1;33m.\u001b[0m\u001b[0mwrite\u001b[0m\u001b[1;33m(\u001b[0m\u001b[0mx\u001b[0m\u001b[1;33m)\u001b[0m\u001b[1;33m\u001b[0m\u001b[0m\n\u001b[0m",
      "\u001b[1;31mTypeError\u001b[0m: write() argument must be str, not int"
     ]
    }
   ],
   "source": [
    "file.write(x)"
   ]
  },
  {
   "cell_type": "code",
   "execution_count": 21,
   "metadata": {},
   "outputs": [
    {
     "data": {
      "text/plain": [
       "1"
      ]
     },
     "execution_count": 21,
     "metadata": {},
     "output_type": "execute_result"
    }
   ],
   "source": [
    "file.write(str(x))"
   ]
  },
  {
   "cell_type": "code",
   "execution_count": 22,
   "metadata": {},
   "outputs": [],
   "source": [
    "file.close()"
   ]
  },
  {
   "cell_type": "code",
   "execution_count": 43,
   "metadata": {},
   "outputs": [],
   "source": [
    "# The io module provides the Python interfaces to stream handling. Under Python 2.x, this is proposed as an alternative to the built-in file object, but in Python 3.x it is the default interface to access files and streams.\n",
    "import io"
   ]
  },
  {
   "cell_type": "code",
   "execution_count": 44,
   "metadata": {},
   "outputs": [],
   "source": [
    "file = open('write_bin_2.txt','w')"
   ]
  },
  {
   "cell_type": "code",
   "execution_count": 45,
   "metadata": {},
   "outputs": [
    {
     "ename": "PermissionError",
     "evalue": "[WinError 32] The process cannot access the file because it is being used by another process: 'write_bin_2.txt'",
     "output_type": "error",
     "traceback": [
      "\u001b[1;31m---------------------------------------------------------------------------\u001b[0m",
      "\u001b[1;31mPermissionError\u001b[0m                           Traceback (most recent call last)",
      "\u001b[1;32m<ipython-input-45-75ab1d9485a9>\u001b[0m in \u001b[0;36m<module>\u001b[1;34m()\u001b[0m\n\u001b[1;32m----> 1\u001b[1;33m \u001b[0mos\u001b[0m\u001b[1;33m.\u001b[0m\u001b[0mremove\u001b[0m\u001b[1;33m(\u001b[0m\u001b[1;34m'write_bin_2.txt'\u001b[0m\u001b[1;33m)\u001b[0m\u001b[1;33m\u001b[0m\u001b[0m\n\u001b[0m",
      "\u001b[1;31mPermissionError\u001b[0m: [WinError 32] The process cannot access the file because it is being used by another process: 'write_bin_2.txt'"
     ]
    }
   ],
   "source": [
    "os.remove('write_bin_2.txt')"
   ]
  },
  {
   "cell_type": "code",
   "execution_count": 46,
   "metadata": {},
   "outputs": [],
   "source": [
    "file.close()"
   ]
  },
  {
   "cell_type": "code",
   "execution_count": 47,
   "metadata": {},
   "outputs": [],
   "source": [
    "os.remove('write_bin_2.txt')"
   ]
  },
  {
   "cell_type": "code",
   "execution_count": 49,
   "metadata": {},
   "outputs": [],
   "source": [
    "# opening file in write binary mode\n",
    "file = open('write_bin_2.txt','wb')              "
   ]
  },
  {
   "cell_type": "code",
   "execution_count": 51,
   "metadata": {},
   "outputs": [
    {
     "ename": "TypeError",
     "evalue": "a bytes-like object is required, not 'int'",
     "output_type": "error",
     "traceback": [
      "\u001b[1;31m---------------------------------------------------------------------------\u001b[0m",
      "\u001b[1;31mTypeError\u001b[0m                                 Traceback (most recent call last)",
      "\u001b[1;32m<ipython-input-51-b797d2e155a4>\u001b[0m in \u001b[0;36m<module>\u001b[1;34m()\u001b[0m\n\u001b[1;32m----> 1\u001b[1;33m \u001b[0mfile\u001b[0m\u001b[1;33m.\u001b[0m\u001b[0mwrite\u001b[0m\u001b[1;33m(\u001b[0m\u001b[0mx\u001b[0m\u001b[1;33m)\u001b[0m\u001b[1;33m\u001b[0m\u001b[0m\n\u001b[0m",
      "\u001b[1;31mTypeError\u001b[0m: a bytes-like object is required, not 'int'"
     ]
    }
   ],
   "source": [
    "file.write(x)"
   ]
  },
  {
   "cell_type": "code",
   "execution_count": 54,
   "metadata": {},
   "outputs": [],
   "source": [
    "# to convert into bytes\n",
    "x = b'2' "
   ]
  },
  {
   "cell_type": "code",
   "execution_count": 55,
   "metadata": {},
   "outputs": [
    {
     "data": {
      "text/plain": [
       "bytes"
      ]
     },
     "execution_count": 55,
     "metadata": {},
     "output_type": "execute_result"
    }
   ],
   "source": [
    "type(x)"
   ]
  },
  {
   "cell_type": "code",
   "execution_count": 56,
   "metadata": {},
   "outputs": [
    {
     "data": {
      "text/plain": [
       "1"
      ]
     },
     "execution_count": 56,
     "metadata": {},
     "output_type": "execute_result"
    }
   ],
   "source": [
    "file.write(x)"
   ]
  },
  {
   "cell_type": "code",
   "execution_count": 58,
   "metadata": {},
   "outputs": [],
   "source": [
    "file.close()"
   ]
  },
  {
   "cell_type": "code",
   "execution_count": 64,
   "metadata": {},
   "outputs": [],
   "source": [
    "# read binary mode\n",
    "file = open('football.jpg','rb')"
   ]
  },
  {
   "cell_type": "code",
   "execution_count": 65,
   "metadata": {},
   "outputs": [],
   "source": [
    "data = file.read()"
   ]
  },
  {
   "cell_type": "code",
   "execution_count": 66,
   "metadata": {},
   "outputs": [
    {
     "data": {
      "text/plain": [
       "15035"
      ]
     },
     "execution_count": 66,
     "metadata": {},
     "output_type": "execute_result"
    }
   ],
   "source": [
    "len(data)"
   ]
  },
  {
   "cell_type": "code",
   "execution_count": 67,
   "metadata": {},
   "outputs": [],
   "source": [
    "file.close()"
   ]
  },
  {
   "cell_type": "code",
   "execution_count": 70,
   "metadata": {},
   "outputs": [],
   "source": [
    "# cwd - current working directory\n",
    "path = os.getcwd()"
   ]
  },
  {
   "cell_type": "code",
   "execution_count": 71,
   "metadata": {},
   "outputs": [
    {
     "data": {
      "text/plain": [
       "'C:\\\\Users\\\\mbman\\\\ML_Python\\\\Machine Learning\\\\Section_5\\\\NLP_2'"
      ]
     },
     "execution_count": 71,
     "metadata": {},
     "output_type": "execute_result"
    }
   ],
   "source": [
    "path"
   ]
  },
  {
   "cell_type": "code",
   "execution_count": 73,
   "metadata": {},
   "outputs": [
    {
     "data": {
      "text/plain": [
       "<generator object walk at 0x00000194C5CE6A40>"
      ]
     },
     "execution_count": 73,
     "metadata": {},
     "output_type": "execute_result"
    }
   ],
   "source": [
    "# Takes a walk of the current path and returns all the files and directory names at the path\n",
    "os.walk(path)"
   ]
  },
  {
   "cell_type": "code",
   "execution_count": 74,
   "metadata": {},
   "outputs": [
    {
     "name": "stdout",
     "output_type": "stream",
     "text": [
      "('C:\\\\Users\\\\mbman\\\\ML_Python\\\\Machine Learning\\\\Section_5\\\\NLP_2', ['.ipynb_checkpoints'], ['04-TfIdf_TextClassifier.ipynb', 'football.jpg', 'NLP_Intro.ipynb', 'StemmingAndLemmatizer.ipynb', 'TextSummarizer.ipynb', 'Untitled.ipynb', 'write_bin.txt', 'write_bin_2.txt'])\n",
      "('C:\\\\Users\\\\mbman\\\\ML_Python\\\\Machine Learning\\\\Section_5\\\\NLP_2\\\\.ipynb_checkpoints', [], ['04-TfIdf_TextClassifier-checkpoint.ipynb', 'NLP_Intro-checkpoint.ipynb', 'StemmingAndLemmatizer-checkpoint.ipynb', 'TextSummarizer-checkpoint.ipynb', 'Untitled-checkpoint.ipynb'])\n"
     ]
    }
   ],
   "source": [
    "for root in os.walk(path):\n",
    "    print(root)"
   ]
  },
  {
   "cell_type": "code",
   "execution_count": 75,
   "metadata": {},
   "outputs": [
    {
     "name": "stdout",
     "output_type": "stream",
     "text": [
      "C:\\Users\\mbman\\ML_Python\\Machine Learning\\Section_5\n"
     ]
    }
   ],
   "source": [
    "cd .."
   ]
  },
  {
   "cell_type": "code",
   "execution_count": 76,
   "metadata": {},
   "outputs": [
    {
     "data": {
      "text/plain": [
       "'C:\\\\Users\\\\mbman\\\\ML_Python\\\\Machine Learning\\\\Section_5'"
      ]
     },
     "execution_count": 76,
     "metadata": {},
     "output_type": "execute_result"
    }
   ],
   "source": [
    "pwd"
   ]
  },
  {
   "cell_type": "code",
   "execution_count": 78,
   "metadata": {},
   "outputs": [
    {
     "name": "stdout",
     "output_type": "stream",
     "text": [
      "C:\\Users\\mbman\\ML_Python\\Machine Learning\\Section_5\\NLP_2\n"
     ]
    }
   ],
   "source": [
    "cd NLP_2/"
   ]
  },
  {
   "cell_type": "code",
   "execution_count": 84,
   "metadata": {},
   "outputs": [
    {
     "name": "stdout",
     "output_type": "stream",
     "text": [
      "C:\\Users\\mbman\\ML_Python\\Machine Learning\n"
     ]
    }
   ],
   "source": [
    "cd .."
   ]
  },
  {
   "cell_type": "code",
   "execution_count": 85,
   "metadata": {},
   "outputs": [],
   "source": [
    "path = os.getcwd()"
   ]
  },
  {
   "cell_type": "code",
   "execution_count": 86,
   "metadata": {},
   "outputs": [
    {
     "data": {
      "text/plain": [
       "'C:\\\\Users\\\\mbman\\\\ML_Python\\\\Machine Learning'"
      ]
     },
     "execution_count": 86,
     "metadata": {},
     "output_type": "execute_result"
    }
   ],
   "source": [
    "path"
   ]
  },
  {
   "cell_type": "code",
   "execution_count": 87,
   "metadata": {},
   "outputs": [
    {
     "name": "stdout",
     "output_type": "stream",
     "text": [
      "('C:\\\\Users\\\\mbman\\\\ML_Python\\\\Machine Learning', ['.ipynb_checkpoints', 'Section 1', 'Section 2', 'Section_5'], ['anes_dataset.csv', 'Data.csv', 'DataPreprocessing.py', 'DataPreprocessingTopics.txt', 'FeatureScaling.PNG'])\n",
      "('C:\\\\Users\\\\mbman\\\\ML_Python\\\\Machine Learning\\\\.ipynb_checkpoints', [], [])\n",
      "('C:\\\\Users\\\\mbman\\\\ML_Python\\\\Machine Learning\\\\Section 1', ['.ipynb_checkpoints', 'Data'], ['01-SimpleLinearRegression.ipynb', '02-LinearRegression_using_Scipy_&_Sklearn.ipynb', '03-MultipleLinearRegression.ipynb', '03-MultipleLinearRegression_Using_GradientDescent.ipynb'])\n",
      "('C:\\\\Users\\\\mbman\\\\ML_Python\\\\Machine Learning\\\\Section 1\\\\.ipynb_checkpoints', [], ['01-SimpleLinearRegression-checkpoint.ipynb', '02-LinearRegression_using_Scipy_&_Sklearn-checkpoint.ipynb', '03-MultipleLinearRegression-checkpoint.ipynb', '03-MultipleLinearRegression_Using_GradientDescent-checkpoint.ipynb', 'Untitled-checkpoint.ipynb'])\n",
      "('C:\\\\Users\\\\mbman\\\\ML_Python\\\\Machine Learning\\\\Section 1\\\\Data', [], ['headbrain.csv', 'student.csv', 'tv_show_viewers_datasest.csv'])\n",
      "('C:\\\\Users\\\\mbman\\\\ML_Python\\\\Machine Learning\\\\Section 2', ['.ipynb_checkpoints'], ['anes_dataset.csv', 'LogisticModel.ipynb', 'LogisticRegressionSklearn.ipynb', 'LogisticTest.py', 'LogisticTest_pima_indians_diabetes_data.py', 'LR_From_Scratch.py', 'LR_From_Scratch_2.py', 'LR_From_Scratch_2_MB.py', 'pima-indians-diabetes.data.csv'])\n",
      "('C:\\\\Users\\\\mbman\\\\ML_Python\\\\Machine Learning\\\\Section 2\\\\.ipynb_checkpoints', [], ['LogisticModel-checkpoint.ipynb', 'LogisticRegressionSklearn-checkpoint.ipynb'])\n",
      "('C:\\\\Users\\\\mbman\\\\ML_Python\\\\Machine Learning\\\\Section_5', ['.ipynb_checkpoints', 'NLP', 'NLP_2'], ['hello.py', 'NLP_Code_1.ipynb'])\n",
      "('C:\\\\Users\\\\mbman\\\\ML_Python\\\\Machine Learning\\\\Section_5\\\\.ipynb_checkpoints', [], ['NLP_Code_1-checkpoint.ipynb'])\n",
      "('C:\\\\Users\\\\mbman\\\\ML_Python\\\\Machine Learning\\\\Section_5\\\\NLP', ['.ipynb_checkpoints'], ['StringMatchUsingJaccard.ipynb'])\n",
      "('C:\\\\Users\\\\mbman\\\\ML_Python\\\\Machine Learning\\\\Section_5\\\\NLP\\\\.ipynb_checkpoints', [], ['StringMatchUsingJaccard-checkpoint.ipynb'])\n",
      "('C:\\\\Users\\\\mbman\\\\ML_Python\\\\Machine Learning\\\\Section_5\\\\NLP_2', ['.ipynb_checkpoints'], ['04-TfIdf_TextClassifier.ipynb', 'football.jpg', 'NLP_Intro.ipynb', 'StemmingAndLemmatizer.ipynb', 'TextSummarizer.ipynb', 'Untitled.ipynb', 'write_bin.txt', 'write_bin_2.txt'])\n",
      "('C:\\\\Users\\\\mbman\\\\ML_Python\\\\Machine Learning\\\\Section_5\\\\NLP_2\\\\.ipynb_checkpoints', [], ['04-TfIdf_TextClassifier-checkpoint.ipynb', 'NLP_Intro-checkpoint.ipynb', 'StemmingAndLemmatizer-checkpoint.ipynb', 'TextSummarizer-checkpoint.ipynb', 'Untitled-checkpoint.ipynb'])\n"
     ]
    }
   ],
   "source": [
    "# takes a walk in each and every sub directory also...and prints their name\n",
    "for root in os.walk(path):\n",
    "    print(root)"
   ]
  },
  {
   "cell_type": "code",
   "execution_count": 95,
   "metadata": {},
   "outputs": [],
   "source": [
    "# r is used to deal with the \\ type expressions in path\n",
    "os.chdir(r'C:\\Users\\mbman\\ML_Python\\Machine Learning\\Section_5')"
   ]
  },
  {
   "cell_type": "code",
   "execution_count": 96,
   "metadata": {},
   "outputs": [],
   "source": [
    "path = os.getcwd()"
   ]
  },
  {
   "cell_type": "code",
   "execution_count": 98,
   "metadata": {},
   "outputs": [
    {
     "name": "stdout",
     "output_type": "stream",
     "text": [
      "Root Directory => C:\\Users\\mbman\\ML_Python\\Machine Learning\\Section_5\n",
      "Directory Names => ['.ipynb_checkpoints', 'NLP', 'NLP_2']\n",
      "Filename => ['hello.py', 'NLP_Code_1.ipynb']\n",
      "Root Directory => C:\\Users\\mbman\\ML_Python\\Machine Learning\\Section_5\\.ipynb_checkpoints\n",
      "Directory Names => []\n",
      "Filename => ['NLP_Code_1-checkpoint.ipynb']\n",
      "Root Directory => C:\\Users\\mbman\\ML_Python\\Machine Learning\\Section_5\\NLP\n",
      "Directory Names => ['.ipynb_checkpoints']\n",
      "Filename => ['StringMatchUsingJaccard.ipynb']\n",
      "Root Directory => C:\\Users\\mbman\\ML_Python\\Machine Learning\\Section_5\\NLP\\.ipynb_checkpoints\n",
      "Directory Names => []\n",
      "Filename => ['StringMatchUsingJaccard-checkpoint.ipynb']\n",
      "Root Directory => C:\\Users\\mbman\\ML_Python\\Machine Learning\\Section_5\\NLP_2\n",
      "Directory Names => ['.ipynb_checkpoints']\n",
      "Filename => ['04-TfIdf_TextClassifier.ipynb', 'football.jpg', 'NLP_Intro.ipynb', 'StemmingAndLemmatizer.ipynb', 'TextSummarizer.ipynb', 'Untitled.ipynb', 'write_bin.txt', 'write_bin_2.txt']\n",
      "Root Directory => C:\\Users\\mbman\\ML_Python\\Machine Learning\\Section_5\\NLP_2\\.ipynb_checkpoints\n",
      "Directory Names => []\n",
      "Filename => ['04-TfIdf_TextClassifier-checkpoint.ipynb', 'NLP_Intro-checkpoint.ipynb', 'StemmingAndLemmatizer-checkpoint.ipynb', 'TextSummarizer-checkpoint.ipynb', 'Untitled-checkpoint.ipynb']\n"
     ]
    }
   ],
   "source": [
    "# Accessing and tracking each file in a directory\n",
    "for root, dirname , filename in os.walk(path):\n",
    "    print(\"Root Directory =>\",root)\n",
    "    print(\"Directory Names =>\",dirname)\n",
    "    print(\"Filename =>\",filename)"
   ]
  },
  {
   "cell_type": "code",
   "execution_count": null,
   "metadata": {},
   "outputs": [],
   "source": []
  }
 ],
 "metadata": {
  "kernelspec": {
   "display_name": "Python 3",
   "language": "python",
   "name": "python3"
  },
  "language_info": {
   "codemirror_mode": {
    "name": "ipython",
    "version": 3
   },
   "file_extension": ".py",
   "mimetype": "text/x-python",
   "name": "python",
   "nbconvert_exporter": "python",
   "pygments_lexer": "ipython3",
   "version": "3.6.4"
  }
 },
 "nbformat": 4,
 "nbformat_minor": 2
}
